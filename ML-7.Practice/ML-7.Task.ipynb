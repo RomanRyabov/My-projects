{
 "cells": [
  {
   "cell_type": "code",
   "execution_count": 4,
   "metadata": {},
   "outputs": [],
   "source": [
    "import numpy as np\n",
    "import pandas as pd \n",
    "import matplotlib.pyplot as plt \n",
    "import seaborn as sns \n",
    "\n",
    "from sklearn import linear_model\n",
    "from sklearn import ensemble\n",
    "from sklearn import metrics\n",
    "from sklearn import preprocessing \n",
    "from sklearn.model_selection import train_test_split \n",
    "from sklearn.model_selection import cross_val_score\n",
    "from sklearn.model_selection import GridSearchCV \n",
    "from sklearn.model_selection import RandomizedSearchCV\n",
    "from sklearn.model_selection import KFold\n",
    "import hyperopt\n",
    "import optuna\n",
    "\n",
    "%matplotlib inline\n",
    "plt.style.use('seaborn')"
   ]
  },
  {
   "cell_type": "code",
   "execution_count": 5,
   "metadata": {},
   "outputs": [],
   "source": [
    "molecules = pd.read_csv(\"data/_train_sem09 (1).csv\")"
   ]
  },
  {
   "cell_type": "code",
   "execution_count": 6,
   "metadata": {},
   "outputs": [
    {
     "data": {
      "text/html": [
       "<div>\n",
       "<style scoped>\n",
       "    .dataframe tbody tr th:only-of-type {\n",
       "        vertical-align: middle;\n",
       "    }\n",
       "\n",
       "    .dataframe tbody tr th {\n",
       "        vertical-align: top;\n",
       "    }\n",
       "\n",
       "    .dataframe thead th {\n",
       "        text-align: right;\n",
       "    }\n",
       "</style>\n",
       "<table border=\"1\" class=\"dataframe\">\n",
       "  <thead>\n",
       "    <tr style=\"text-align: right;\">\n",
       "      <th></th>\n",
       "      <th>Activity</th>\n",
       "      <th>D1</th>\n",
       "      <th>D2</th>\n",
       "      <th>D3</th>\n",
       "      <th>D4</th>\n",
       "      <th>D5</th>\n",
       "      <th>D6</th>\n",
       "      <th>D7</th>\n",
       "      <th>D8</th>\n",
       "      <th>D9</th>\n",
       "      <th>...</th>\n",
       "      <th>D1767</th>\n",
       "      <th>D1768</th>\n",
       "      <th>D1769</th>\n",
       "      <th>D1770</th>\n",
       "      <th>D1771</th>\n",
       "      <th>D1772</th>\n",
       "      <th>D1773</th>\n",
       "      <th>D1774</th>\n",
       "      <th>D1775</th>\n",
       "      <th>D1776</th>\n",
       "    </tr>\n",
       "  </thead>\n",
       "  <tbody>\n",
       "    <tr>\n",
       "      <th>0</th>\n",
       "      <td>1</td>\n",
       "      <td>0.000000</td>\n",
       "      <td>0.497009</td>\n",
       "      <td>0.10</td>\n",
       "      <td>0.0</td>\n",
       "      <td>0.132956</td>\n",
       "      <td>0.678031</td>\n",
       "      <td>0.273166</td>\n",
       "      <td>0.585445</td>\n",
       "      <td>0.743663</td>\n",
       "      <td>...</td>\n",
       "      <td>0</td>\n",
       "      <td>0</td>\n",
       "      <td>0</td>\n",
       "      <td>0</td>\n",
       "      <td>0</td>\n",
       "      <td>0</td>\n",
       "      <td>0</td>\n",
       "      <td>0</td>\n",
       "      <td>0</td>\n",
       "      <td>0</td>\n",
       "    </tr>\n",
       "    <tr>\n",
       "      <th>1</th>\n",
       "      <td>1</td>\n",
       "      <td>0.366667</td>\n",
       "      <td>0.606291</td>\n",
       "      <td>0.05</td>\n",
       "      <td>0.0</td>\n",
       "      <td>0.111209</td>\n",
       "      <td>0.803455</td>\n",
       "      <td>0.106105</td>\n",
       "      <td>0.411754</td>\n",
       "      <td>0.836582</td>\n",
       "      <td>...</td>\n",
       "      <td>1</td>\n",
       "      <td>1</td>\n",
       "      <td>1</td>\n",
       "      <td>1</td>\n",
       "      <td>0</td>\n",
       "      <td>1</td>\n",
       "      <td>0</td>\n",
       "      <td>0</td>\n",
       "      <td>1</td>\n",
       "      <td>0</td>\n",
       "    </tr>\n",
       "    <tr>\n",
       "      <th>2</th>\n",
       "      <td>1</td>\n",
       "      <td>0.033300</td>\n",
       "      <td>0.480124</td>\n",
       "      <td>0.00</td>\n",
       "      <td>0.0</td>\n",
       "      <td>0.209791</td>\n",
       "      <td>0.610350</td>\n",
       "      <td>0.356453</td>\n",
       "      <td>0.517720</td>\n",
       "      <td>0.679051</td>\n",
       "      <td>...</td>\n",
       "      <td>0</td>\n",
       "      <td>0</td>\n",
       "      <td>0</td>\n",
       "      <td>0</td>\n",
       "      <td>0</td>\n",
       "      <td>0</td>\n",
       "      <td>0</td>\n",
       "      <td>0</td>\n",
       "      <td>0</td>\n",
       "      <td>0</td>\n",
       "    </tr>\n",
       "    <tr>\n",
       "      <th>3</th>\n",
       "      <td>1</td>\n",
       "      <td>0.000000</td>\n",
       "      <td>0.538825</td>\n",
       "      <td>0.00</td>\n",
       "      <td>0.5</td>\n",
       "      <td>0.196344</td>\n",
       "      <td>0.724230</td>\n",
       "      <td>0.235606</td>\n",
       "      <td>0.288764</td>\n",
       "      <td>0.805110</td>\n",
       "      <td>...</td>\n",
       "      <td>0</td>\n",
       "      <td>0</td>\n",
       "      <td>0</td>\n",
       "      <td>0</td>\n",
       "      <td>0</td>\n",
       "      <td>0</td>\n",
       "      <td>0</td>\n",
       "      <td>0</td>\n",
       "      <td>0</td>\n",
       "      <td>0</td>\n",
       "    </tr>\n",
       "    <tr>\n",
       "      <th>4</th>\n",
       "      <td>0</td>\n",
       "      <td>0.100000</td>\n",
       "      <td>0.517794</td>\n",
       "      <td>0.00</td>\n",
       "      <td>0.0</td>\n",
       "      <td>0.494734</td>\n",
       "      <td>0.781422</td>\n",
       "      <td>0.154361</td>\n",
       "      <td>0.303809</td>\n",
       "      <td>0.812646</td>\n",
       "      <td>...</td>\n",
       "      <td>0</td>\n",
       "      <td>0</td>\n",
       "      <td>0</td>\n",
       "      <td>0</td>\n",
       "      <td>0</td>\n",
       "      <td>0</td>\n",
       "      <td>0</td>\n",
       "      <td>0</td>\n",
       "      <td>0</td>\n",
       "      <td>0</td>\n",
       "    </tr>\n",
       "  </tbody>\n",
       "</table>\n",
       "<p>5 rows × 1777 columns</p>\n",
       "</div>"
      ],
      "text/plain": [
       "   Activity        D1        D2    D3   D4        D5        D6        D7  \\\n",
       "0         1  0.000000  0.497009  0.10  0.0  0.132956  0.678031  0.273166   \n",
       "1         1  0.366667  0.606291  0.05  0.0  0.111209  0.803455  0.106105   \n",
       "2         1  0.033300  0.480124  0.00  0.0  0.209791  0.610350  0.356453   \n",
       "3         1  0.000000  0.538825  0.00  0.5  0.196344  0.724230  0.235606   \n",
       "4         0  0.100000  0.517794  0.00  0.0  0.494734  0.781422  0.154361   \n",
       "\n",
       "         D8        D9  ...  D1767  D1768  D1769  D1770  D1771  D1772  D1773  \\\n",
       "0  0.585445  0.743663  ...      0      0      0      0      0      0      0   \n",
       "1  0.411754  0.836582  ...      1      1      1      1      0      1      0   \n",
       "2  0.517720  0.679051  ...      0      0      0      0      0      0      0   \n",
       "3  0.288764  0.805110  ...      0      0      0      0      0      0      0   \n",
       "4  0.303809  0.812646  ...      0      0      0      0      0      0      0   \n",
       "\n",
       "   D1774  D1775  D1776  \n",
       "0      0      0      0  \n",
       "1      0      1      0  \n",
       "2      0      0      0  \n",
       "3      0      0      0  \n",
       "4      0      0      0  \n",
       "\n",
       "[5 rows x 1777 columns]"
      ]
     },
     "execution_count": 6,
     "metadata": {},
     "output_type": "execute_result"
    }
   ],
   "source": [
    "molecules.head()"
   ]
  },
  {
   "cell_type": "code",
   "execution_count": 7,
   "metadata": {},
   "outputs": [
    {
     "name": "stdout",
     "output_type": "stream",
     "text": [
      "<class 'pandas.core.frame.DataFrame'>\n",
      "RangeIndex: 3751 entries, 0 to 3750\n",
      "Columns: 1777 entries, Activity to D1776\n",
      "dtypes: float64(942), int64(835)\n",
      "memory usage: 50.9 MB\n"
     ]
    }
   ],
   "source": [
    "molecules.info()"
   ]
  },
  {
   "cell_type": "markdown",
   "metadata": {},
   "source": [
    "Так как предварительная обработка не требуется, данные уже закодированы и нормализованы, приступим к обучению моделей."
   ]
  },
  {
   "cell_type": "code",
   "execution_count": 8,
   "metadata": {},
   "outputs": [],
   "source": [
    "X = molecules.drop(\"Activity\", axis=1)\n",
    "y = molecules[\"Activity\"]"
   ]
  },
  {
   "cell_type": "code",
   "execution_count": 9,
   "metadata": {},
   "outputs": [],
   "source": [
    "X_train, X_test, y_train, y_test = train_test_split(X, y, test_size=0.25, random_state=42)"
   ]
  },
  {
   "cell_type": "markdown",
   "metadata": {},
   "source": [
    "Обучим модели без оптимизации, получим метрики для дальнейшего сравнения."
   ]
  },
  {
   "cell_type": "markdown",
   "metadata": {},
   "source": [
    "# Логистическая регрессия без оптимизации внешних параметров"
   ]
  },
  {
   "cell_type": "code",
   "execution_count": 54,
   "metadata": {},
   "outputs": [
    {
     "data": {
      "text/html": [
       "<style>#sk-container-id-6 {color: black;background-color: white;}#sk-container-id-6 pre{padding: 0;}#sk-container-id-6 div.sk-toggleable {background-color: white;}#sk-container-id-6 label.sk-toggleable__label {cursor: pointer;display: block;width: 100%;margin-bottom: 0;padding: 0.3em;box-sizing: border-box;text-align: center;}#sk-container-id-6 label.sk-toggleable__label-arrow:before {content: \"▸\";float: left;margin-right: 0.25em;color: #696969;}#sk-container-id-6 label.sk-toggleable__label-arrow:hover:before {color: black;}#sk-container-id-6 div.sk-estimator:hover label.sk-toggleable__label-arrow:before {color: black;}#sk-container-id-6 div.sk-toggleable__content {max-height: 0;max-width: 0;overflow: hidden;text-align: left;background-color: #f0f8ff;}#sk-container-id-6 div.sk-toggleable__content pre {margin: 0.2em;color: black;border-radius: 0.25em;background-color: #f0f8ff;}#sk-container-id-6 input.sk-toggleable__control:checked~div.sk-toggleable__content {max-height: 200px;max-width: 100%;overflow: auto;}#sk-container-id-6 input.sk-toggleable__control:checked~label.sk-toggleable__label-arrow:before {content: \"▾\";}#sk-container-id-6 div.sk-estimator input.sk-toggleable__control:checked~label.sk-toggleable__label {background-color: #d4ebff;}#sk-container-id-6 div.sk-label input.sk-toggleable__control:checked~label.sk-toggleable__label {background-color: #d4ebff;}#sk-container-id-6 input.sk-hidden--visually {border: 0;clip: rect(1px 1px 1px 1px);clip: rect(1px, 1px, 1px, 1px);height: 1px;margin: -1px;overflow: hidden;padding: 0;position: absolute;width: 1px;}#sk-container-id-6 div.sk-estimator {font-family: monospace;background-color: #f0f8ff;border: 1px dotted black;border-radius: 0.25em;box-sizing: border-box;margin-bottom: 0.5em;}#sk-container-id-6 div.sk-estimator:hover {background-color: #d4ebff;}#sk-container-id-6 div.sk-parallel-item::after {content: \"\";width: 100%;border-bottom: 1px solid gray;flex-grow: 1;}#sk-container-id-6 div.sk-label:hover label.sk-toggleable__label {background-color: #d4ebff;}#sk-container-id-6 div.sk-serial::before {content: \"\";position: absolute;border-left: 1px solid gray;box-sizing: border-box;top: 0;bottom: 0;left: 50%;z-index: 0;}#sk-container-id-6 div.sk-serial {display: flex;flex-direction: column;align-items: center;background-color: white;padding-right: 0.2em;padding-left: 0.2em;position: relative;}#sk-container-id-6 div.sk-item {position: relative;z-index: 1;}#sk-container-id-6 div.sk-parallel {display: flex;align-items: stretch;justify-content: center;background-color: white;position: relative;}#sk-container-id-6 div.sk-item::before, #sk-container-id-6 div.sk-parallel-item::before {content: \"\";position: absolute;border-left: 1px solid gray;box-sizing: border-box;top: 0;bottom: 0;left: 50%;z-index: -1;}#sk-container-id-6 div.sk-parallel-item {display: flex;flex-direction: column;z-index: 1;position: relative;background-color: white;}#sk-container-id-6 div.sk-parallel-item:first-child::after {align-self: flex-end;width: 50%;}#sk-container-id-6 div.sk-parallel-item:last-child::after {align-self: flex-start;width: 50%;}#sk-container-id-6 div.sk-parallel-item:only-child::after {width: 0;}#sk-container-id-6 div.sk-dashed-wrapped {border: 1px dashed gray;margin: 0 0.4em 0.5em 0.4em;box-sizing: border-box;padding-bottom: 0.4em;background-color: white;}#sk-container-id-6 div.sk-label label {font-family: monospace;font-weight: bold;display: inline-block;line-height: 1.2em;}#sk-container-id-6 div.sk-label-container {text-align: center;}#sk-container-id-6 div.sk-container {/* jupyter's `normalize.less` sets `[hidden] { display: none; }` but bootstrap.min.css set `[hidden] { display: none !important; }` so we also need the `!important` here to be able to override the default hidden behavior on the sphinx rendered scikit-learn.org. See: https://github.com/scikit-learn/scikit-learn/issues/21755 */display: inline-block !important;position: relative;}#sk-container-id-6 div.sk-text-repr-fallback {display: none;}</style><div id=\"sk-container-id-6\" class=\"sk-top-container\"><div class=\"sk-text-repr-fallback\"><pre>LogisticRegression(max_iter=1000)</pre><b>In a Jupyter environment, please rerun this cell to show the HTML representation or trust the notebook. <br />On GitHub, the HTML representation is unable to render, please try loading this page with nbviewer.org.</b></div><div class=\"sk-container\" hidden><div class=\"sk-item\"><div class=\"sk-estimator sk-toggleable\"><input class=\"sk-toggleable__control sk-hidden--visually\" id=\"sk-estimator-id-8\" type=\"checkbox\" checked><label for=\"sk-estimator-id-8\" class=\"sk-toggleable__label sk-toggleable__label-arrow\">LogisticRegression</label><div class=\"sk-toggleable__content\"><pre>LogisticRegression(max_iter=1000)</pre></div></div></div></div></div>"
      ],
      "text/plain": [
       "LogisticRegression(max_iter=1000)"
      ]
     },
     "execution_count": 54,
     "metadata": {},
     "output_type": "execute_result"
    }
   ],
   "source": [
    "log_reg = linear_model.LogisticRegression(max_iter=1000)\n",
    "log_reg.fit(X_train, y_train)"
   ]
  },
  {
   "cell_type": "code",
   "execution_count": 55,
   "metadata": {},
   "outputs": [
    {
     "name": "stdout",
     "output_type": "stream",
     "text": [
      "F1-score на обучающем наборе: 0.892\n",
      "\n",
      "F1-score на обучающем наборе: 0.792\n"
     ]
    }
   ],
   "source": [
    "print(\"F1-score на обучающем наборе: {:.3f}\".format(metrics.f1_score(y_train, log_reg.predict(X_train))))\n",
    "print(\"\\nF1-score на обучающем наборе: {:.3f}\".format(metrics.f1_score(y_test, log_reg.predict(X_test))))"
   ]
  },
  {
   "cell_type": "markdown",
   "metadata": {},
   "source": [
    "# Случайный лес без оптимизации внешних параметров"
   ]
  },
  {
   "cell_type": "code",
   "execution_count": 56,
   "metadata": {},
   "outputs": [
    {
     "data": {
      "text/html": [
       "<style>#sk-container-id-7 {color: black;background-color: white;}#sk-container-id-7 pre{padding: 0;}#sk-container-id-7 div.sk-toggleable {background-color: white;}#sk-container-id-7 label.sk-toggleable__label {cursor: pointer;display: block;width: 100%;margin-bottom: 0;padding: 0.3em;box-sizing: border-box;text-align: center;}#sk-container-id-7 label.sk-toggleable__label-arrow:before {content: \"▸\";float: left;margin-right: 0.25em;color: #696969;}#sk-container-id-7 label.sk-toggleable__label-arrow:hover:before {color: black;}#sk-container-id-7 div.sk-estimator:hover label.sk-toggleable__label-arrow:before {color: black;}#sk-container-id-7 div.sk-toggleable__content {max-height: 0;max-width: 0;overflow: hidden;text-align: left;background-color: #f0f8ff;}#sk-container-id-7 div.sk-toggleable__content pre {margin: 0.2em;color: black;border-radius: 0.25em;background-color: #f0f8ff;}#sk-container-id-7 input.sk-toggleable__control:checked~div.sk-toggleable__content {max-height: 200px;max-width: 100%;overflow: auto;}#sk-container-id-7 input.sk-toggleable__control:checked~label.sk-toggleable__label-arrow:before {content: \"▾\";}#sk-container-id-7 div.sk-estimator input.sk-toggleable__control:checked~label.sk-toggleable__label {background-color: #d4ebff;}#sk-container-id-7 div.sk-label input.sk-toggleable__control:checked~label.sk-toggleable__label {background-color: #d4ebff;}#sk-container-id-7 input.sk-hidden--visually {border: 0;clip: rect(1px 1px 1px 1px);clip: rect(1px, 1px, 1px, 1px);height: 1px;margin: -1px;overflow: hidden;padding: 0;position: absolute;width: 1px;}#sk-container-id-7 div.sk-estimator {font-family: monospace;background-color: #f0f8ff;border: 1px dotted black;border-radius: 0.25em;box-sizing: border-box;margin-bottom: 0.5em;}#sk-container-id-7 div.sk-estimator:hover {background-color: #d4ebff;}#sk-container-id-7 div.sk-parallel-item::after {content: \"\";width: 100%;border-bottom: 1px solid gray;flex-grow: 1;}#sk-container-id-7 div.sk-label:hover label.sk-toggleable__label {background-color: #d4ebff;}#sk-container-id-7 div.sk-serial::before {content: \"\";position: absolute;border-left: 1px solid gray;box-sizing: border-box;top: 0;bottom: 0;left: 50%;z-index: 0;}#sk-container-id-7 div.sk-serial {display: flex;flex-direction: column;align-items: center;background-color: white;padding-right: 0.2em;padding-left: 0.2em;position: relative;}#sk-container-id-7 div.sk-item {position: relative;z-index: 1;}#sk-container-id-7 div.sk-parallel {display: flex;align-items: stretch;justify-content: center;background-color: white;position: relative;}#sk-container-id-7 div.sk-item::before, #sk-container-id-7 div.sk-parallel-item::before {content: \"\";position: absolute;border-left: 1px solid gray;box-sizing: border-box;top: 0;bottom: 0;left: 50%;z-index: -1;}#sk-container-id-7 div.sk-parallel-item {display: flex;flex-direction: column;z-index: 1;position: relative;background-color: white;}#sk-container-id-7 div.sk-parallel-item:first-child::after {align-self: flex-end;width: 50%;}#sk-container-id-7 div.sk-parallel-item:last-child::after {align-self: flex-start;width: 50%;}#sk-container-id-7 div.sk-parallel-item:only-child::after {width: 0;}#sk-container-id-7 div.sk-dashed-wrapped {border: 1px dashed gray;margin: 0 0.4em 0.5em 0.4em;box-sizing: border-box;padding-bottom: 0.4em;background-color: white;}#sk-container-id-7 div.sk-label label {font-family: monospace;font-weight: bold;display: inline-block;line-height: 1.2em;}#sk-container-id-7 div.sk-label-container {text-align: center;}#sk-container-id-7 div.sk-container {/* jupyter's `normalize.less` sets `[hidden] { display: none; }` but bootstrap.min.css set `[hidden] { display: none !important; }` so we also need the `!important` here to be able to override the default hidden behavior on the sphinx rendered scikit-learn.org. See: https://github.com/scikit-learn/scikit-learn/issues/21755 */display: inline-block !important;position: relative;}#sk-container-id-7 div.sk-text-repr-fallback {display: none;}</style><div id=\"sk-container-id-7\" class=\"sk-top-container\"><div class=\"sk-text-repr-fallback\"><pre>RandomForestClassifier(random_state=42)</pre><b>In a Jupyter environment, please rerun this cell to show the HTML representation or trust the notebook. <br />On GitHub, the HTML representation is unable to render, please try loading this page with nbviewer.org.</b></div><div class=\"sk-container\" hidden><div class=\"sk-item\"><div class=\"sk-estimator sk-toggleable\"><input class=\"sk-toggleable__control sk-hidden--visually\" id=\"sk-estimator-id-9\" type=\"checkbox\" checked><label for=\"sk-estimator-id-9\" class=\"sk-toggleable__label sk-toggleable__label-arrow\">RandomForestClassifier</label><div class=\"sk-toggleable__content\"><pre>RandomForestClassifier(random_state=42)</pre></div></div></div></div></div>"
      ],
      "text/plain": [
       "RandomForestClassifier(random_state=42)"
      ]
     },
     "execution_count": 56,
     "metadata": {},
     "output_type": "execute_result"
    }
   ],
   "source": [
    "forest = ensemble.RandomForestClassifier(random_state=42)\n",
    "forest.fit(X_train, y_train)"
   ]
  },
  {
   "cell_type": "code",
   "execution_count": 57,
   "metadata": {},
   "outputs": [
    {
     "name": "stdout",
     "output_type": "stream",
     "text": [
      "F1-score на обучающем наборе: 1.000\n",
      "\n",
      "F1-score на обучающем наборе: 0.809\n"
     ]
    }
   ],
   "source": [
    "print(\"F1-score на обучающем наборе: {:.3f}\".format(metrics.f1_score(y_train, forest.predict(X_train))))\n",
    "print(\"\\nF1-score на обучающем наборе: {:.3f}\".format(metrics.f1_score(y_test, forest.predict(X_test))))"
   ]
  },
  {
   "cell_type": "markdown",
   "metadata": {},
   "source": [
    "Думаю, столь высокие показатели метрик получаются из-за \"стерильности\" данных."
   ]
  },
  {
   "cell_type": "markdown",
   "metadata": {},
   "source": [
    "# Логистическая регрессия по сетке с кросс-валидацией"
   ]
  },
  {
   "cell_type": "code",
   "execution_count": null,
   "metadata": {},
   "outputs": [],
   "source": [
    "hyperparams = {\n",
    "    \"penalty\":[\"l2\", \"none\"],\n",
    "    \"solver\":[\"lbfgs\", \"sag\"]\n",
    "}\n",
    "\n",
    "grid_search = GridSearchCV(\n",
    "    estimator=linear_model.LogisticRegression(random_state=42, max_iter=1000),\n",
    "    param_grid = hyperparams,\n",
    "    cv=5,\n",
    "    n_jobs=-1\n",
    ")\n",
    "\n",
    "grid_search.fit(X_train, y_train)"
   ]
  },
  {
   "cell_type": "code",
   "execution_count": 59,
   "metadata": {},
   "outputs": [
    {
     "name": "stdout",
     "output_type": "stream",
     "text": [
      "Наилучшие значения параметров:\n",
      "{'penalty': 'l2', 'solver': 'sag'}\n"
     ]
    }
   ],
   "source": [
    "print(\"Наилучшие значения параметров:\\n{}\".format(grid_search.best_params_))"
   ]
  },
  {
   "cell_type": "code",
   "execution_count": 60,
   "metadata": {},
   "outputs": [
    {
     "name": "stdout",
     "output_type": "stream",
     "text": [
      "F1-score на обучающем наборе: 0.891\n",
      "\n",
      "F1-score на обучающем наборе: 0.793\n"
     ]
    }
   ],
   "source": [
    "print(\"F1-score на обучающем наборе: {:.3f}\".format(metrics.f1_score(y_train, grid_search.predict(X_train))))\n",
    "print(\"\\nF1-score на обучающем наборе: {:.3f}\".format(metrics.f1_score(y_test, grid_search.predict(X_test))))"
   ]
  },
  {
   "cell_type": "markdown",
   "metadata": {},
   "source": [
    "Метрика на тестовом наборе чуть-чуть выросла, а на обучающем наборе чуть-чуть упала))"
   ]
  },
  {
   "cell_type": "markdown",
   "metadata": {},
   "source": [
    "# Случайный лес по сетке с кросс-валидацией"
   ]
  },
  {
   "cell_type": "code",
   "execution_count": 70,
   "metadata": {},
   "outputs": [
    {
     "data": {
      "text/html": [
       "<style>#sk-container-id-10 {color: black;background-color: white;}#sk-container-id-10 pre{padding: 0;}#sk-container-id-10 div.sk-toggleable {background-color: white;}#sk-container-id-10 label.sk-toggleable__label {cursor: pointer;display: block;width: 100%;margin-bottom: 0;padding: 0.3em;box-sizing: border-box;text-align: center;}#sk-container-id-10 label.sk-toggleable__label-arrow:before {content: \"▸\";float: left;margin-right: 0.25em;color: #696969;}#sk-container-id-10 label.sk-toggleable__label-arrow:hover:before {color: black;}#sk-container-id-10 div.sk-estimator:hover label.sk-toggleable__label-arrow:before {color: black;}#sk-container-id-10 div.sk-toggleable__content {max-height: 0;max-width: 0;overflow: hidden;text-align: left;background-color: #f0f8ff;}#sk-container-id-10 div.sk-toggleable__content pre {margin: 0.2em;color: black;border-radius: 0.25em;background-color: #f0f8ff;}#sk-container-id-10 input.sk-toggleable__control:checked~div.sk-toggleable__content {max-height: 200px;max-width: 100%;overflow: auto;}#sk-container-id-10 input.sk-toggleable__control:checked~label.sk-toggleable__label-arrow:before {content: \"▾\";}#sk-container-id-10 div.sk-estimator input.sk-toggleable__control:checked~label.sk-toggleable__label {background-color: #d4ebff;}#sk-container-id-10 div.sk-label input.sk-toggleable__control:checked~label.sk-toggleable__label {background-color: #d4ebff;}#sk-container-id-10 input.sk-hidden--visually {border: 0;clip: rect(1px 1px 1px 1px);clip: rect(1px, 1px, 1px, 1px);height: 1px;margin: -1px;overflow: hidden;padding: 0;position: absolute;width: 1px;}#sk-container-id-10 div.sk-estimator {font-family: monospace;background-color: #f0f8ff;border: 1px dotted black;border-radius: 0.25em;box-sizing: border-box;margin-bottom: 0.5em;}#sk-container-id-10 div.sk-estimator:hover {background-color: #d4ebff;}#sk-container-id-10 div.sk-parallel-item::after {content: \"\";width: 100%;border-bottom: 1px solid gray;flex-grow: 1;}#sk-container-id-10 div.sk-label:hover label.sk-toggleable__label {background-color: #d4ebff;}#sk-container-id-10 div.sk-serial::before {content: \"\";position: absolute;border-left: 1px solid gray;box-sizing: border-box;top: 0;bottom: 0;left: 50%;z-index: 0;}#sk-container-id-10 div.sk-serial {display: flex;flex-direction: column;align-items: center;background-color: white;padding-right: 0.2em;padding-left: 0.2em;position: relative;}#sk-container-id-10 div.sk-item {position: relative;z-index: 1;}#sk-container-id-10 div.sk-parallel {display: flex;align-items: stretch;justify-content: center;background-color: white;position: relative;}#sk-container-id-10 div.sk-item::before, #sk-container-id-10 div.sk-parallel-item::before {content: \"\";position: absolute;border-left: 1px solid gray;box-sizing: border-box;top: 0;bottom: 0;left: 50%;z-index: -1;}#sk-container-id-10 div.sk-parallel-item {display: flex;flex-direction: column;z-index: 1;position: relative;background-color: white;}#sk-container-id-10 div.sk-parallel-item:first-child::after {align-self: flex-end;width: 50%;}#sk-container-id-10 div.sk-parallel-item:last-child::after {align-self: flex-start;width: 50%;}#sk-container-id-10 div.sk-parallel-item:only-child::after {width: 0;}#sk-container-id-10 div.sk-dashed-wrapped {border: 1px dashed gray;margin: 0 0.4em 0.5em 0.4em;box-sizing: border-box;padding-bottom: 0.4em;background-color: white;}#sk-container-id-10 div.sk-label label {font-family: monospace;font-weight: bold;display: inline-block;line-height: 1.2em;}#sk-container-id-10 div.sk-label-container {text-align: center;}#sk-container-id-10 div.sk-container {/* jupyter's `normalize.less` sets `[hidden] { display: none; }` but bootstrap.min.css set `[hidden] { display: none !important; }` so we also need the `!important` here to be able to override the default hidden behavior on the sphinx rendered scikit-learn.org. See: https://github.com/scikit-learn/scikit-learn/issues/21755 */display: inline-block !important;position: relative;}#sk-container-id-10 div.sk-text-repr-fallback {display: none;}</style><div id=\"sk-container-id-10\" class=\"sk-top-container\"><div class=\"sk-text-repr-fallback\"><pre>GridSearchCV(cv=5, estimator=RandomForestClassifier(random_state=42), n_jobs=-1,\n",
       "             param_grid={&#x27;criterion&#x27;: [&#x27;gini&#x27;, &#x27;entropy&#x27;],\n",
       "                         &#x27;max_depth&#x27;: [10, 15, 20, 25],\n",
       "                         &#x27;min_samples_leaf&#x27;: [5, 7],\n",
       "                         &#x27;n_estimators&#x27;: [100, 200, 300, 400]})</pre><b>In a Jupyter environment, please rerun this cell to show the HTML representation or trust the notebook. <br />On GitHub, the HTML representation is unable to render, please try loading this page with nbviewer.org.</b></div><div class=\"sk-container\" hidden><div class=\"sk-item sk-dashed-wrapped\"><div class=\"sk-label-container\"><div class=\"sk-label sk-toggleable\"><input class=\"sk-toggleable__control sk-hidden--visually\" id=\"sk-estimator-id-16\" type=\"checkbox\" ><label for=\"sk-estimator-id-16\" class=\"sk-toggleable__label sk-toggleable__label-arrow\">GridSearchCV</label><div class=\"sk-toggleable__content\"><pre>GridSearchCV(cv=5, estimator=RandomForestClassifier(random_state=42), n_jobs=-1,\n",
       "             param_grid={&#x27;criterion&#x27;: [&#x27;gini&#x27;, &#x27;entropy&#x27;],\n",
       "                         &#x27;max_depth&#x27;: [10, 15, 20, 25],\n",
       "                         &#x27;min_samples_leaf&#x27;: [5, 7],\n",
       "                         &#x27;n_estimators&#x27;: [100, 200, 300, 400]})</pre></div></div></div><div class=\"sk-parallel\"><div class=\"sk-parallel-item\"><div class=\"sk-item\"><div class=\"sk-label-container\"><div class=\"sk-label sk-toggleable\"><input class=\"sk-toggleable__control sk-hidden--visually\" id=\"sk-estimator-id-17\" type=\"checkbox\" ><label for=\"sk-estimator-id-17\" class=\"sk-toggleable__label sk-toggleable__label-arrow\">estimator: RandomForestClassifier</label><div class=\"sk-toggleable__content\"><pre>RandomForestClassifier(random_state=42)</pre></div></div></div><div class=\"sk-serial\"><div class=\"sk-item\"><div class=\"sk-estimator sk-toggleable\"><input class=\"sk-toggleable__control sk-hidden--visually\" id=\"sk-estimator-id-18\" type=\"checkbox\" ><label for=\"sk-estimator-id-18\" class=\"sk-toggleable__label sk-toggleable__label-arrow\">RandomForestClassifier</label><div class=\"sk-toggleable__content\"><pre>RandomForestClassifier(random_state=42)</pre></div></div></div></div></div></div></div></div></div></div>"
      ],
      "text/plain": [
       "GridSearchCV(cv=5, estimator=RandomForestClassifier(random_state=42), n_jobs=-1,\n",
       "             param_grid={'criterion': ['gini', 'entropy'],\n",
       "                         'max_depth': [10, 15, 20, 25],\n",
       "                         'min_samples_leaf': [5, 7],\n",
       "                         'n_estimators': [100, 200, 300, 400]})"
      ]
     },
     "execution_count": 70,
     "metadata": {},
     "output_type": "execute_result"
    }
   ],
   "source": [
    "hyperparams = {\"n_estimators\": [100, 200, 300, 400],\n",
    "               \"criterion\":[\"gini\", \"entropy\"],\n",
    "               \"max_depth\" : [10, 15, 20, 25],\n",
    "              \"min_samples_leaf\" : [5,7]\n",
    "              }\n",
    "\n",
    "grid_search = GridSearchCV(\n",
    "    estimator=ensemble.RandomForestClassifier(random_state=42),\n",
    "    param_grid = hyperparams,\n",
    "    cv=5,\n",
    "    n_jobs=-1\n",
    ")\n",
    "\n",
    "grid_search.fit(X_train, y_train)"
   ]
  },
  {
   "cell_type": "code",
   "execution_count": 71,
   "metadata": {},
   "outputs": [
    {
     "name": "stdout",
     "output_type": "stream",
     "text": [
      "Наилучшие значения параметров:\n",
      "{'criterion': 'gini', 'max_depth': 20, 'min_samples_leaf': 5, 'n_estimators': 400}\n"
     ]
    }
   ],
   "source": [
    "print(\"Наилучшие значения параметров:\\n{}\".format(grid_search.best_params_))"
   ]
  },
  {
   "cell_type": "code",
   "execution_count": 72,
   "metadata": {},
   "outputs": [
    {
     "name": "stdout",
     "output_type": "stream",
     "text": [
      "F1-score на обучающем наборе: 0.942\n",
      "\n",
      "F1-score на обучающем наборе: 0.830\n"
     ]
    }
   ],
   "source": [
    "print(\"F1-score на обучающем наборе: {:.3f}\".format(metrics.f1_score(y_train, grid_search.predict(X_train))))\n",
    "print(\"\\nF1-score на обучающем наборе: {:.3f}\".format(metrics.f1_score(y_test, grid_search.predict(X_test))))"
   ]
  },
  {
   "cell_type": "markdown",
   "metadata": {},
   "source": [
    "Метрика на тестовом наборе заметно выросла, и от переобучения избавились."
   ]
  },
  {
   "cell_type": "markdown",
   "metadata": {},
   "source": [
    "# Логистическая регрессия по рандомизированному поиску"
   ]
  },
  {
   "cell_type": "code",
   "execution_count": null,
   "metadata": {},
   "outputs": [],
   "source": [
    "params = {\n",
    "    \"penalty\":[\"l2\", \"none\"],\n",
    "    \"solver\":[\"lbfgs\", \"sag\"],\n",
    "    \"C\":list(np.linspace(0.01, 1, 10, dtype=float))\n",
    "}\n",
    "\n",
    "random_search = RandomizedSearchCV(\n",
    "    estimator=linear_model.LogisticRegression(random_state=42, max_iter=1000),\n",
    "    param_distributions=params, \n",
    "    cv=5,\n",
    "    n_iter=20,\n",
    "    n_jobs=-1\n",
    ")\n",
    "\n",
    "random_search.fit(X_train, y_train)"
   ]
  },
  {
   "cell_type": "code",
   "execution_count": 74,
   "metadata": {},
   "outputs": [
    {
     "name": "stdout",
     "output_type": "stream",
     "text": [
      "F1-score на обучающем наборе: 0.856\n",
      "\n",
      "F1-score на обучающем наборе: 0.800\n"
     ]
    }
   ],
   "source": [
    "print(\"F1-score на обучающем наборе: {:.3f}\".format(metrics.f1_score(y_train, random_search.predict(X_train))))\n",
    "print(\"\\nF1-score на обучающем наборе: {:.3f}\".format(metrics.f1_score(y_test, random_search.predict(X_test))))"
   ]
  },
  {
   "cell_type": "markdown",
   "metadata": {},
   "source": [
    "F1-score на тестовом наборе выросла по сравнению с сеткой, а на обучающем наборе упала - снизили вероятность переобучения."
   ]
  },
  {
   "cell_type": "markdown",
   "metadata": {},
   "source": [
    "# Случайный лес по рандомизированному поиску"
   ]
  },
  {
   "cell_type": "code",
   "execution_count": 78,
   "metadata": {},
   "outputs": [
    {
     "data": {
      "text/html": [
       "<style>#sk-container-id-12 {color: black;background-color: white;}#sk-container-id-12 pre{padding: 0;}#sk-container-id-12 div.sk-toggleable {background-color: white;}#sk-container-id-12 label.sk-toggleable__label {cursor: pointer;display: block;width: 100%;margin-bottom: 0;padding: 0.3em;box-sizing: border-box;text-align: center;}#sk-container-id-12 label.sk-toggleable__label-arrow:before {content: \"▸\";float: left;margin-right: 0.25em;color: #696969;}#sk-container-id-12 label.sk-toggleable__label-arrow:hover:before {color: black;}#sk-container-id-12 div.sk-estimator:hover label.sk-toggleable__label-arrow:before {color: black;}#sk-container-id-12 div.sk-toggleable__content {max-height: 0;max-width: 0;overflow: hidden;text-align: left;background-color: #f0f8ff;}#sk-container-id-12 div.sk-toggleable__content pre {margin: 0.2em;color: black;border-radius: 0.25em;background-color: #f0f8ff;}#sk-container-id-12 input.sk-toggleable__control:checked~div.sk-toggleable__content {max-height: 200px;max-width: 100%;overflow: auto;}#sk-container-id-12 input.sk-toggleable__control:checked~label.sk-toggleable__label-arrow:before {content: \"▾\";}#sk-container-id-12 div.sk-estimator input.sk-toggleable__control:checked~label.sk-toggleable__label {background-color: #d4ebff;}#sk-container-id-12 div.sk-label input.sk-toggleable__control:checked~label.sk-toggleable__label {background-color: #d4ebff;}#sk-container-id-12 input.sk-hidden--visually {border: 0;clip: rect(1px 1px 1px 1px);clip: rect(1px, 1px, 1px, 1px);height: 1px;margin: -1px;overflow: hidden;padding: 0;position: absolute;width: 1px;}#sk-container-id-12 div.sk-estimator {font-family: monospace;background-color: #f0f8ff;border: 1px dotted black;border-radius: 0.25em;box-sizing: border-box;margin-bottom: 0.5em;}#sk-container-id-12 div.sk-estimator:hover {background-color: #d4ebff;}#sk-container-id-12 div.sk-parallel-item::after {content: \"\";width: 100%;border-bottom: 1px solid gray;flex-grow: 1;}#sk-container-id-12 div.sk-label:hover label.sk-toggleable__label {background-color: #d4ebff;}#sk-container-id-12 div.sk-serial::before {content: \"\";position: absolute;border-left: 1px solid gray;box-sizing: border-box;top: 0;bottom: 0;left: 50%;z-index: 0;}#sk-container-id-12 div.sk-serial {display: flex;flex-direction: column;align-items: center;background-color: white;padding-right: 0.2em;padding-left: 0.2em;position: relative;}#sk-container-id-12 div.sk-item {position: relative;z-index: 1;}#sk-container-id-12 div.sk-parallel {display: flex;align-items: stretch;justify-content: center;background-color: white;position: relative;}#sk-container-id-12 div.sk-item::before, #sk-container-id-12 div.sk-parallel-item::before {content: \"\";position: absolute;border-left: 1px solid gray;box-sizing: border-box;top: 0;bottom: 0;left: 50%;z-index: -1;}#sk-container-id-12 div.sk-parallel-item {display: flex;flex-direction: column;z-index: 1;position: relative;background-color: white;}#sk-container-id-12 div.sk-parallel-item:first-child::after {align-self: flex-end;width: 50%;}#sk-container-id-12 div.sk-parallel-item:last-child::after {align-self: flex-start;width: 50%;}#sk-container-id-12 div.sk-parallel-item:only-child::after {width: 0;}#sk-container-id-12 div.sk-dashed-wrapped {border: 1px dashed gray;margin: 0 0.4em 0.5em 0.4em;box-sizing: border-box;padding-bottom: 0.4em;background-color: white;}#sk-container-id-12 div.sk-label label {font-family: monospace;font-weight: bold;display: inline-block;line-height: 1.2em;}#sk-container-id-12 div.sk-label-container {text-align: center;}#sk-container-id-12 div.sk-container {/* jupyter's `normalize.less` sets `[hidden] { display: none; }` but bootstrap.min.css set `[hidden] { display: none !important; }` so we also need the `!important` here to be able to override the default hidden behavior on the sphinx rendered scikit-learn.org. See: https://github.com/scikit-learn/scikit-learn/issues/21755 */display: inline-block !important;position: relative;}#sk-container-id-12 div.sk-text-repr-fallback {display: none;}</style><div id=\"sk-container-id-12\" class=\"sk-top-container\"><div class=\"sk-text-repr-fallback\"><pre>RandomizedSearchCV(cv=5, estimator=RandomForestClassifier(random_state=42),\n",
       "                   n_iter=20, n_jobs=-1,\n",
       "                   param_distributions={&#x27;criterion&#x27;: [&#x27;gini&#x27;, &#x27;entropy&#x27;],\n",
       "                                        &#x27;max_depth&#x27;: [1, 1, 2, 2, 3, 3, 4, 5, 5,\n",
       "                                                      6, 6, 7, 8, 8, 9, 9, 10,\n",
       "                                                      11, 11, 12, 12, 13, 14,\n",
       "                                                      14, 15, 15, 16, 16, 17,\n",
       "                                                      18, ...],\n",
       "                                        &#x27;min_samples_leaf&#x27;: [1, 2, 3, 4, 5, 6,\n",
       "                                                             7],\n",
       "                                        &#x27;n_estimators&#x27;: [100, 200, 300, 400]})</pre><b>In a Jupyter environment, please rerun this cell to show the HTML representation or trust the notebook. <br />On GitHub, the HTML representation is unable to render, please try loading this page with nbviewer.org.</b></div><div class=\"sk-container\" hidden><div class=\"sk-item sk-dashed-wrapped\"><div class=\"sk-label-container\"><div class=\"sk-label sk-toggleable\"><input class=\"sk-toggleable__control sk-hidden--visually\" id=\"sk-estimator-id-22\" type=\"checkbox\" ><label for=\"sk-estimator-id-22\" class=\"sk-toggleable__label sk-toggleable__label-arrow\">RandomizedSearchCV</label><div class=\"sk-toggleable__content\"><pre>RandomizedSearchCV(cv=5, estimator=RandomForestClassifier(random_state=42),\n",
       "                   n_iter=20, n_jobs=-1,\n",
       "                   param_distributions={&#x27;criterion&#x27;: [&#x27;gini&#x27;, &#x27;entropy&#x27;],\n",
       "                                        &#x27;max_depth&#x27;: [1, 1, 2, 2, 3, 3, 4, 5, 5,\n",
       "                                                      6, 6, 7, 8, 8, 9, 9, 10,\n",
       "                                                      11, 11, 12, 12, 13, 14,\n",
       "                                                      14, 15, 15, 16, 16, 17,\n",
       "                                                      18, ...],\n",
       "                                        &#x27;min_samples_leaf&#x27;: [1, 2, 3, 4, 5, 6,\n",
       "                                                             7],\n",
       "                                        &#x27;n_estimators&#x27;: [100, 200, 300, 400]})</pre></div></div></div><div class=\"sk-parallel\"><div class=\"sk-parallel-item\"><div class=\"sk-item\"><div class=\"sk-label-container\"><div class=\"sk-label sk-toggleable\"><input class=\"sk-toggleable__control sk-hidden--visually\" id=\"sk-estimator-id-23\" type=\"checkbox\" ><label for=\"sk-estimator-id-23\" class=\"sk-toggleable__label sk-toggleable__label-arrow\">estimator: RandomForestClassifier</label><div class=\"sk-toggleable__content\"><pre>RandomForestClassifier(random_state=42)</pre></div></div></div><div class=\"sk-serial\"><div class=\"sk-item\"><div class=\"sk-estimator sk-toggleable\"><input class=\"sk-toggleable__control sk-hidden--visually\" id=\"sk-estimator-id-24\" type=\"checkbox\" ><label for=\"sk-estimator-id-24\" class=\"sk-toggleable__label sk-toggleable__label-arrow\">RandomForestClassifier</label><div class=\"sk-toggleable__content\"><pre>RandomForestClassifier(random_state=42)</pre></div></div></div></div></div></div></div></div></div></div>"
      ],
      "text/plain": [
       "RandomizedSearchCV(cv=5, estimator=RandomForestClassifier(random_state=42),\n",
       "                   n_iter=20, n_jobs=-1,\n",
       "                   param_distributions={'criterion': ['gini', 'entropy'],\n",
       "                                        'max_depth': [1, 1, 2, 2, 3, 3, 4, 5, 5,\n",
       "                                                      6, 6, 7, 8, 8, 9, 9, 10,\n",
       "                                                      11, 11, 12, 12, 13, 14,\n",
       "                                                      14, 15, 15, 16, 16, 17,\n",
       "                                                      18, ...],\n",
       "                                        'min_samples_leaf': [1, 2, 3, 4, 5, 6,\n",
       "                                                             7],\n",
       "                                        'n_estimators': [100, 200, 300, 400]})"
      ]
     },
     "execution_count": 78,
     "metadata": {},
     "output_type": "execute_result"
    }
   ],
   "source": [
    "hyperparams = {\"n_estimators\": list(np.linspace(100, 400, 4, dtype=int)),\n",
    "               \"criterion\":[\"gini\", \"entropy\"],\n",
    "              \"max_depth\": list(np.linspace(1, 30, 50, dtype=int)),\n",
    "              \"min_samples_leaf\" : list(np.linspace(1, 7, 7, dtype=int))\n",
    "              }\n",
    "\n",
    "random_search = RandomizedSearchCV(\n",
    "    estimator=ensemble.RandomForestClassifier(random_state=42),\n",
    "    param_distributions=hyperparams, \n",
    "    cv=5,\n",
    "    n_iter=20,\n",
    "    n_jobs=-1\n",
    ")\n",
    "\n",
    "random_search.fit(X_train, y_train)"
   ]
  },
  {
   "cell_type": "code",
   "execution_count": 79,
   "metadata": {},
   "outputs": [
    {
     "name": "stdout",
     "output_type": "stream",
     "text": [
      "F1-score на обучающем наборе: 0.992\n",
      "\n",
      "F1-score на обучающем наборе: 0.824\n"
     ]
    }
   ],
   "source": [
    "print(\"F1-score на обучающем наборе: {:.3f}\".format(metrics.f1_score(y_train, random_search.predict(X_train))))\n",
    "print(\"\\nF1-score на обучающем наборе: {:.3f}\".format(metrics.f1_score(y_test, random_search.predict(X_test))))"
   ]
  },
  {
   "cell_type": "markdown",
   "metadata": {},
   "source": [
    "На тестовой выборке метрика упала. Лучше использовать алгоритм по сетке с кросс-валидацией."
   ]
  },
  {
   "cell_type": "markdown",
   "metadata": {},
   "source": [
    "# Логистическая регрессия по Hyperopt"
   ]
  },
  {
   "cell_type": "code",
   "execution_count": 2,
   "metadata": {},
   "outputs": [],
   "source": [
    "from hyperopt import hp, fmin, tpe, Trials"
   ]
  },
  {
   "cell_type": "code",
   "execution_count": 55,
   "metadata": {},
   "outputs": [],
   "source": [
    "space = { \"penalty\": hp.choice(label='penalty', options=[\"l2\", \"none\"]),\n",
    "         \"solver\": hp.choice(label=\"solver\", options=[\"lbfgs\", \"sag\"]),\n",
    "         \"C\": hp.uniform('C', 0.01, 1)\n",
    "         }\n",
    "\n",
    "random_state = 42\n",
    "\n",
    "def hyperopt_rf(params, cv=5, X=X_train, y=y_train, random_state=random_state):\n",
    "    params = {\n",
    "        \"penalty\": str(params[\"penalty\"]),\n",
    "        \"solver\": str(params[\"solver\"]),\n",
    "        \"C\": float(params[\"C\"])\n",
    "        }\n",
    "    \n",
    "    model = linear_model.LogisticRegression(**params, random_state=random_state)\n",
    "    model.fit(X, y)\n",
    "    \n",
    "    score = cross_val_score(model, X, y, cv=cv, scoring=\"f1\", n_jobs=-1).mean()\n",
    "    \n",
    "    return -score"
   ]
  },
  {
   "cell_type": "code",
   "execution_count": null,
   "metadata": {},
   "outputs": [],
   "source": [
    "trials = Trials()\n",
    "\n",
    "best = fmin(\n",
    "    hyperopt_rf,\n",
    "    space=space,\n",
    "    algo=tpe.suggest,\n",
    "    max_evals=50,\n",
    "    trials=trials\n",
    ")"
   ]
  },
  {
   "cell_type": "code",
   "execution_count": 61,
   "metadata": {},
   "outputs": [
    {
     "name": "stdout",
     "output_type": "stream",
     "text": [
      "Наилучшие значения гиперпараметров:{'C': 0.0900747757567953, 'penalty': 0, 'solver': 0}\n"
     ]
    }
   ],
   "source": [
    "print(\"Наилучшие значения гиперпараметров:{}\".format(best))"
   ]
  },
  {
   "cell_type": "code",
   "execution_count": 65,
   "metadata": {},
   "outputs": [
    {
     "name": "stdout",
     "output_type": "stream",
     "text": [
      "F1-score на обучающем наборе: 0.849\n",
      "\n",
      "F1-score на обучающем наборе: 0.799\n"
     ]
    }
   ],
   "source": [
    "model = linear_model.LogisticRegression(\n",
    "    random_state=random_state,\n",
    "    penalty=\"l2\",\n",
    "    solver=\"lbfgs\",\n",
    "    C=float(best[\"C\"]),\n",
    "    max_iter=1000\n",
    ")\n",
    "\n",
    "model.fit(X_train, y_train)\n",
    "\n",
    "print(\"F1-score на обучающем наборе: {:.3f}\".format(metrics.f1_score(y_train, model.predict(X_train))))\n",
    "print(\"\\nF1-score на обучающем наборе: {:.3f}\".format(metrics.f1_score(y_test, model.predict(X_test))))"
   ]
  },
  {
   "cell_type": "markdown",
   "metadata": {},
   "source": [
    "Результат метрики логистической регрессии по hyperopt почти такой же, как логистической регрессии по рандомизированному поиску"
   ]
  },
  {
   "cell_type": "markdown",
   "metadata": {},
   "source": [
    "# Случайный лес по Hyperopt"
   ]
  },
  {
   "cell_type": "code",
   "execution_count": 79,
   "metadata": {},
   "outputs": [],
   "source": [
    "space={'n_estimators': hp.quniform('n_estimators', 100, 200, 1),\n",
    "       'max_depth' : hp.quniform('max_depth', 15, 26, 1),\n",
    "       'min_samples_leaf': hp.quniform('min_samples_leaf', 2, 10, 1)\n",
    "      }\n",
    "\n",
    "random_state = 42\n",
    "\n",
    "def hyperopt_rf(params, cv=5, X=X_train, y=y_train, random_state=random_state):\n",
    "    \n",
    "    params = {'n_estimators': int(params['n_estimators']), \n",
    "              'max_depth': int(params['max_depth']), \n",
    "             'min_samples_leaf': int(params['min_samples_leaf'])\n",
    "              }\n",
    "  \n",
    "    model = ensemble.RandomForestClassifier(**params, random_state=random_state)\n",
    "\n",
    "    model.fit(X, y)\n",
    "\n",
    "    score = cross_val_score(model, X, y, cv=cv, scoring=\"f1\", n_jobs=-1).mean()\n",
    "\n",
    "    return -score"
   ]
  },
  {
   "cell_type": "code",
   "execution_count": 82,
   "metadata": {},
   "outputs": [
    {
     "name": "stdout",
     "output_type": "stream",
     "text": [
      "100%|██████████| 50/50 [04:29<00:00,  5.39s/trial, best loss: -0.815259903797766] \n"
     ]
    }
   ],
   "source": [
    "trials = Trials()\n",
    "\n",
    "best = fmin(\n",
    "    hyperopt_rf,\n",
    "    space=space,\n",
    "    algo=tpe.suggest,\n",
    "    max_evals=50,\n",
    "    trials=trials\n",
    ")"
   ]
  },
  {
   "cell_type": "code",
   "execution_count": 84,
   "metadata": {},
   "outputs": [
    {
     "name": "stdout",
     "output_type": "stream",
     "text": [
      "Наилучшие значения гиперпараметров:{'max_depth': 20.0, 'min_samples_leaf': 3.0, 'n_estimators': 175.0}\n"
     ]
    }
   ],
   "source": [
    "print(\"Наилучшие значения гиперпараметров:{}\".format(best))"
   ]
  },
  {
   "cell_type": "code",
   "execution_count": 88,
   "metadata": {},
   "outputs": [
    {
     "name": "stdout",
     "output_type": "stream",
     "text": [
      "F1-score на обучающем наборе: 0.975\n",
      "\n",
      "F1-score на обучающем наборе: 0.825\n"
     ]
    }
   ],
   "source": [
    "model = ensemble.RandomForestClassifier(\n",
    "    random_state=random_state, \n",
    "    n_estimators=int(best['n_estimators']),\n",
    "    max_depth=int(best['max_depth']),\n",
    "    min_samples_leaf=int(best['min_samples_leaf'])\n",
    ")\n",
    "\n",
    "model.fit(X_train, y_train)\n",
    "\n",
    "print(\"F1-score на обучающем наборе: {:.3f}\".format(metrics.f1_score(y_train, model.predict(X_train))))\n",
    "print(\"\\nF1-score на обучающем наборе: {:.3f}\".format(metrics.f1_score(y_test, model.predict(X_test))))"
   ]
  },
  {
   "cell_type": "markdown",
   "metadata": {},
   "source": [
    "Метрика модели RandomForestClassifier на тестовой выборке почти такая же (на 0.001 выше), как у модели случайного леса по рандомизированному поиску.   \n",
    "Но вот по обучающему набору - заметно ниже, значит, модель по Hyperopt менее подверженна переобучению."
   ]
  },
  {
   "cell_type": "markdown",
   "metadata": {},
   "source": [
    "# Логистическая регрессия по Optuna"
   ]
  },
  {
   "cell_type": "code",
   "execution_count": 10,
   "metadata": {},
   "outputs": [],
   "source": [
    "def optuna_rf(trial, cv=5, X=X_train, y=y_train, random_state=42):\n",
    "  penalty = trial.suggest_categorical('penalty', [\"l2\", \"none\"])\n",
    "  solver = trial.suggest_categorical('solver', [\"lbfgs\", \"sag\"])\n",
    "  C = trial.suggest_float('C', 0.01, 1, log=False)\n",
    "\n",
    "  model = linear_model.LogisticRegression(penalty=penalty,\n",
    "                                          solver=solver,\n",
    "                                          C=C,\n",
    "                                          random_state=random_state,\n",
    "                                          max_iter=1000)\n",
    "  model.fit(X_train, y_train)\n",
    "  \n",
    "  score = cross_val_score(model, X, y, cv=cv, scoring=\"f1\", n_jobs=-1).mean()\n",
    "\n",
    "  return score\n",
    "  "
   ]
  },
  {
   "cell_type": "code",
   "execution_count": 11,
   "metadata": {},
   "outputs": [
    {
     "name": "stderr",
     "output_type": "stream",
     "text": [
      "\u001b[32m[I 2022-09-06 20:14:30,447]\u001b[0m A new study created in memory with name: LogisticRegression\u001b[0m\n",
      "\u001b[32m[I 2022-09-06 20:15:28,982]\u001b[0m Trial 0 finished with value: 0.7691121984763665 and parameters: {'penalty': 'l2', 'solver': 'sag', 'C': 0.5848180071596476}. Best is trial 0 with value: 0.7691121984763665.\u001b[0m\n",
      "/home/roman/anaconda3/lib/python3.9/site-packages/sklearn/linear_model/_logistic.py:1113: UserWarning: Setting penalty='none' will ignore the C and l1_ratio parameters\n",
      "  warnings.warn(\n",
      "/home/roman/anaconda3/lib/python3.9/site-packages/sklearn/linear_model/_sag.py:350: ConvergenceWarning: The max_iter was reached which means the coef_ did not converge\n",
      "  warnings.warn(\n",
      "/home/roman/anaconda3/lib/python3.9/site-packages/sklearn/linear_model/_logistic.py:1113: UserWarning: Setting penalty='none' will ignore the C and l1_ratio parameters\n",
      "  warnings.warn(\n",
      "/home/roman/anaconda3/lib/python3.9/site-packages/sklearn/linear_model/_logistic.py:1113: UserWarning: Setting penalty='none' will ignore the C and l1_ratio parameters\n",
      "  warnings.warn(\n",
      "/home/roman/anaconda3/lib/python3.9/site-packages/sklearn/linear_model/_logistic.py:1113: UserWarning: Setting penalty='none' will ignore the C and l1_ratio parameters\n",
      "  warnings.warn(\n",
      "/home/roman/anaconda3/lib/python3.9/site-packages/sklearn/linear_model/_logistic.py:1113: UserWarning: Setting penalty='none' will ignore the C and l1_ratio parameters\n",
      "  warnings.warn(\n",
      "/home/roman/anaconda3/lib/python3.9/site-packages/sklearn/linear_model/_sag.py:350: ConvergenceWarning: The max_iter was reached which means the coef_ did not converge\n",
      "  warnings.warn(\n",
      "/home/roman/anaconda3/lib/python3.9/site-packages/sklearn/linear_model/_logistic.py:1113: UserWarning: Setting penalty='none' will ignore the C and l1_ratio parameters\n",
      "  warnings.warn(\n",
      "/home/roman/anaconda3/lib/python3.9/site-packages/sklearn/linear_model/_sag.py:350: ConvergenceWarning: The max_iter was reached which means the coef_ did not converge\n",
      "  warnings.warn(\n",
      "/home/roman/anaconda3/lib/python3.9/site-packages/sklearn/linear_model/_sag.py:350: ConvergenceWarning: The max_iter was reached which means the coef_ did not converge\n",
      "  warnings.warn(\n",
      "/home/roman/anaconda3/lib/python3.9/site-packages/sklearn/linear_model/_sag.py:350: ConvergenceWarning: The max_iter was reached which means the coef_ did not converge\n",
      "  warnings.warn(\n",
      "/home/roman/anaconda3/lib/python3.9/site-packages/sklearn/linear_model/_sag.py:350: ConvergenceWarning: The max_iter was reached which means the coef_ did not converge\n",
      "  warnings.warn(\n",
      "\u001b[32m[I 2022-09-06 20:17:42,731]\u001b[0m Trial 1 finished with value: 0.752872817977293 and parameters: {'penalty': 'none', 'solver': 'sag', 'C': 0.3684197591097415}. Best is trial 0 with value: 0.7691121984763665.\u001b[0m\n",
      "/home/roman/anaconda3/lib/python3.9/site-packages/sklearn/linear_model/_logistic.py:1113: UserWarning: Setting penalty='none' will ignore the C and l1_ratio parameters\n",
      "  warnings.warn(\n",
      "/home/roman/anaconda3/lib/python3.9/site-packages/sklearn/linear_model/_logistic.py:444: ConvergenceWarning: lbfgs failed to converge (status=1):\n",
      "STOP: TOTAL NO. of ITERATIONS REACHED LIMIT.\n",
      "\n",
      "Increase the number of iterations (max_iter) or scale the data as shown in:\n",
      "    https://scikit-learn.org/stable/modules/preprocessing.html\n",
      "Please also refer to the documentation for alternative solver options:\n",
      "    https://scikit-learn.org/stable/modules/linear_model.html#logistic-regression\n",
      "  n_iter_i = _check_optimize_result(\n",
      "/home/roman/anaconda3/lib/python3.9/site-packages/sklearn/linear_model/_logistic.py:1113: UserWarning: Setting penalty='none' will ignore the C and l1_ratio parameters\n",
      "  warnings.warn(\n",
      "/home/roman/anaconda3/lib/python3.9/site-packages/sklearn/linear_model/_logistic.py:1113: UserWarning: Setting penalty='none' will ignore the C and l1_ratio parameters\n",
      "  warnings.warn(\n",
      "/home/roman/anaconda3/lib/python3.9/site-packages/sklearn/linear_model/_logistic.py:1113: UserWarning: Setting penalty='none' will ignore the C and l1_ratio parameters\n",
      "  warnings.warn(\n",
      "/home/roman/anaconda3/lib/python3.9/site-packages/sklearn/linear_model/_logistic.py:1113: UserWarning: Setting penalty='none' will ignore the C and l1_ratio parameters\n",
      "  warnings.warn(\n",
      "/home/roman/anaconda3/lib/python3.9/site-packages/sklearn/linear_model/_logistic.py:1113: UserWarning: Setting penalty='none' will ignore the C and l1_ratio parameters\n",
      "  warnings.warn(\n",
      "\u001b[32m[I 2022-09-06 20:18:04,969]\u001b[0m Trial 2 finished with value: 0.7213245673535075 and parameters: {'penalty': 'none', 'solver': 'lbfgs', 'C': 0.4572387858808588}. Best is trial 0 with value: 0.7691121984763665.\u001b[0m\n",
      "/home/roman/anaconda3/lib/python3.9/site-packages/sklearn/linear_model/_logistic.py:1113: UserWarning: Setting penalty='none' will ignore the C and l1_ratio parameters\n",
      "  warnings.warn(\n",
      "/home/roman/anaconda3/lib/python3.9/site-packages/sklearn/linear_model/_sag.py:350: ConvergenceWarning: The max_iter was reached which means the coef_ did not converge\n",
      "  warnings.warn(\n",
      "/home/roman/anaconda3/lib/python3.9/site-packages/sklearn/linear_model/_logistic.py:1113: UserWarning: Setting penalty='none' will ignore the C and l1_ratio parameters\n",
      "  warnings.warn(\n",
      "/home/roman/anaconda3/lib/python3.9/site-packages/sklearn/linear_model/_logistic.py:1113: UserWarning: Setting penalty='none' will ignore the C and l1_ratio parameters\n",
      "  warnings.warn(\n",
      "/home/roman/anaconda3/lib/python3.9/site-packages/sklearn/linear_model/_logistic.py:1113: UserWarning: Setting penalty='none' will ignore the C and l1_ratio parameters\n",
      "  warnings.warn(\n",
      "/home/roman/anaconda3/lib/python3.9/site-packages/sklearn/linear_model/_logistic.py:1113: UserWarning: Setting penalty='none' will ignore the C and l1_ratio parameters\n",
      "  warnings.warn(\n",
      "/home/roman/anaconda3/lib/python3.9/site-packages/sklearn/linear_model/_sag.py:350: ConvergenceWarning: The max_iter was reached which means the coef_ did not converge\n",
      "  warnings.warn(\n",
      "/home/roman/anaconda3/lib/python3.9/site-packages/sklearn/linear_model/_logistic.py:1113: UserWarning: Setting penalty='none' will ignore the C and l1_ratio parameters\n",
      "  warnings.warn(\n",
      "/home/roman/anaconda3/lib/python3.9/site-packages/sklearn/linear_model/_sag.py:350: ConvergenceWarning: The max_iter was reached which means the coef_ did not converge\n",
      "  warnings.warn(\n",
      "/home/roman/anaconda3/lib/python3.9/site-packages/sklearn/linear_model/_sag.py:350: ConvergenceWarning: The max_iter was reached which means the coef_ did not converge\n",
      "  warnings.warn(\n",
      "/home/roman/anaconda3/lib/python3.9/site-packages/sklearn/linear_model/_sag.py:350: ConvergenceWarning: The max_iter was reached which means the coef_ did not converge\n",
      "  warnings.warn(\n",
      "/home/roman/anaconda3/lib/python3.9/site-packages/sklearn/linear_model/_sag.py:350: ConvergenceWarning: The max_iter was reached which means the coef_ did not converge\n",
      "  warnings.warn(\n",
      "\u001b[32m[I 2022-09-06 20:20:17,413]\u001b[0m Trial 3 finished with value: 0.752872817977293 and parameters: {'penalty': 'none', 'solver': 'sag', 'C': 0.7187077122746137}. Best is trial 0 with value: 0.7691121984763665.\u001b[0m\n",
      "\u001b[32m[I 2022-09-06 20:20:24,006]\u001b[0m Trial 4 finished with value: 0.7787031763356692 and parameters: {'penalty': 'l2', 'solver': 'lbfgs', 'C': 0.25105126682540074}. Best is trial 4 with value: 0.7787031763356692.\u001b[0m\n",
      "/home/roman/anaconda3/lib/python3.9/site-packages/sklearn/linear_model/_logistic.py:1113: UserWarning: Setting penalty='none' will ignore the C and l1_ratio parameters\n",
      "  warnings.warn(\n",
      "/home/roman/anaconda3/lib/python3.9/site-packages/sklearn/linear_model/_sag.py:350: ConvergenceWarning: The max_iter was reached which means the coef_ did not converge\n",
      "  warnings.warn(\n",
      "/home/roman/anaconda3/lib/python3.9/site-packages/sklearn/linear_model/_logistic.py:1113: UserWarning: Setting penalty='none' will ignore the C and l1_ratio parameters\n",
      "  warnings.warn(\n",
      "/home/roman/anaconda3/lib/python3.9/site-packages/sklearn/linear_model/_logistic.py:1113: UserWarning: Setting penalty='none' will ignore the C and l1_ratio parameters\n",
      "  warnings.warn(\n",
      "/home/roman/anaconda3/lib/python3.9/site-packages/sklearn/linear_model/_logistic.py:1113: UserWarning: Setting penalty='none' will ignore the C and l1_ratio parameters\n",
      "  warnings.warn(\n",
      "/home/roman/anaconda3/lib/python3.9/site-packages/sklearn/linear_model/_logistic.py:1113: UserWarning: Setting penalty='none' will ignore the C and l1_ratio parameters\n",
      "  warnings.warn(\n",
      "/home/roman/anaconda3/lib/python3.9/site-packages/sklearn/linear_model/_sag.py:350: ConvergenceWarning: The max_iter was reached which means the coef_ did not converge\n",
      "  warnings.warn(\n",
      "/home/roman/anaconda3/lib/python3.9/site-packages/sklearn/linear_model/_logistic.py:1113: UserWarning: Setting penalty='none' will ignore the C and l1_ratio parameters\n",
      "  warnings.warn(\n",
      "/home/roman/anaconda3/lib/python3.9/site-packages/sklearn/linear_model/_sag.py:350: ConvergenceWarning: The max_iter was reached which means the coef_ did not converge\n",
      "  warnings.warn(\n",
      "/home/roman/anaconda3/lib/python3.9/site-packages/sklearn/linear_model/_sag.py:350: ConvergenceWarning: The max_iter was reached which means the coef_ did not converge\n",
      "  warnings.warn(\n",
      "/home/roman/anaconda3/lib/python3.9/site-packages/sklearn/linear_model/_sag.py:350: ConvergenceWarning: The max_iter was reached which means the coef_ did not converge\n",
      "  warnings.warn(\n",
      "/home/roman/anaconda3/lib/python3.9/site-packages/sklearn/linear_model/_sag.py:350: ConvergenceWarning: The max_iter was reached which means the coef_ did not converge\n",
      "  warnings.warn(\n",
      "\u001b[32m[I 2022-09-06 20:22:39,370]\u001b[0m Trial 5 finished with value: 0.752872817977293 and parameters: {'penalty': 'none', 'solver': 'sag', 'C': 0.9568832481397657}. Best is trial 4 with value: 0.7787031763356692.\u001b[0m\n",
      "\u001b[32m[I 2022-09-06 20:23:35,362]\u001b[0m Trial 6 finished with value: 0.7701062460741104 and parameters: {'penalty': 'l2', 'solver': 'sag', 'C': 0.47740662530145556}. Best is trial 4 with value: 0.7787031763356692.\u001b[0m\n",
      "/home/roman/anaconda3/lib/python3.9/site-packages/sklearn/linear_model/_logistic.py:1113: UserWarning: Setting penalty='none' will ignore the C and l1_ratio parameters\n",
      "  warnings.warn(\n",
      "/home/roman/anaconda3/lib/python3.9/site-packages/sklearn/linear_model/_sag.py:350: ConvergenceWarning: The max_iter was reached which means the coef_ did not converge\n",
      "  warnings.warn(\n",
      "/home/roman/anaconda3/lib/python3.9/site-packages/sklearn/linear_model/_logistic.py:1113: UserWarning: Setting penalty='none' will ignore the C and l1_ratio parameters\n",
      "  warnings.warn(\n",
      "/home/roman/anaconda3/lib/python3.9/site-packages/sklearn/linear_model/_logistic.py:1113: UserWarning: Setting penalty='none' will ignore the C and l1_ratio parameters\n",
      "  warnings.warn(\n",
      "/home/roman/anaconda3/lib/python3.9/site-packages/sklearn/linear_model/_logistic.py:1113: UserWarning: Setting penalty='none' will ignore the C and l1_ratio parameters\n",
      "  warnings.warn(\n",
      "/home/roman/anaconda3/lib/python3.9/site-packages/sklearn/linear_model/_logistic.py:1113: UserWarning: Setting penalty='none' will ignore the C and l1_ratio parameters\n",
      "  warnings.warn(\n",
      "/home/roman/anaconda3/lib/python3.9/site-packages/sklearn/linear_model/_sag.py:350: ConvergenceWarning: The max_iter was reached which means the coef_ did not converge\n",
      "  warnings.warn(\n",
      "/home/roman/anaconda3/lib/python3.9/site-packages/sklearn/linear_model/_logistic.py:1113: UserWarning: Setting penalty='none' will ignore the C and l1_ratio parameters\n",
      "  warnings.warn(\n",
      "/home/roman/anaconda3/lib/python3.9/site-packages/sklearn/linear_model/_sag.py:350: ConvergenceWarning: The max_iter was reached which means the coef_ did not converge\n",
      "  warnings.warn(\n",
      "/home/roman/anaconda3/lib/python3.9/site-packages/sklearn/linear_model/_sag.py:350: ConvergenceWarning: The max_iter was reached which means the coef_ did not converge\n",
      "  warnings.warn(\n",
      "/home/roman/anaconda3/lib/python3.9/site-packages/sklearn/linear_model/_sag.py:350: ConvergenceWarning: The max_iter was reached which means the coef_ did not converge\n",
      "  warnings.warn(\n",
      "/home/roman/anaconda3/lib/python3.9/site-packages/sklearn/linear_model/_sag.py:350: ConvergenceWarning: The max_iter was reached which means the coef_ did not converge\n",
      "  warnings.warn(\n",
      "\u001b[32m[I 2022-09-06 20:25:50,887]\u001b[0m Trial 7 finished with value: 0.752872817977293 and parameters: {'penalty': 'none', 'solver': 'sag', 'C': 0.8276029338150728}. Best is trial 4 with value: 0.7787031763356692.\u001b[0m\n",
      "\u001b[32m[I 2022-09-06 20:26:27,681]\u001b[0m Trial 8 finished with value: 0.780248752368888 and parameters: {'penalty': 'l2', 'solver': 'sag', 'C': 0.10511382372694718}. Best is trial 8 with value: 0.780248752368888.\u001b[0m\n",
      "/home/roman/anaconda3/lib/python3.9/site-packages/sklearn/linear_model/_logistic.py:1113: UserWarning: Setting penalty='none' will ignore the C and l1_ratio parameters\n",
      "  warnings.warn(\n",
      "/home/roman/anaconda3/lib/python3.9/site-packages/sklearn/linear_model/_logistic.py:444: ConvergenceWarning: lbfgs failed to converge (status=1):\n",
      "STOP: TOTAL NO. of ITERATIONS REACHED LIMIT.\n",
      "\n",
      "Increase the number of iterations (max_iter) or scale the data as shown in:\n",
      "    https://scikit-learn.org/stable/modules/preprocessing.html\n",
      "Please also refer to the documentation for alternative solver options:\n",
      "    https://scikit-learn.org/stable/modules/linear_model.html#logistic-regression\n",
      "  n_iter_i = _check_optimize_result(\n",
      "/home/roman/anaconda3/lib/python3.9/site-packages/sklearn/linear_model/_logistic.py:1113: UserWarning: Setting penalty='none' will ignore the C and l1_ratio parameters\n",
      "  warnings.warn(\n",
      "/home/roman/anaconda3/lib/python3.9/site-packages/sklearn/linear_model/_logistic.py:1113: UserWarning: Setting penalty='none' will ignore the C and l1_ratio parameters\n",
      "  warnings.warn(\n",
      "/home/roman/anaconda3/lib/python3.9/site-packages/sklearn/linear_model/_logistic.py:1113: UserWarning: Setting penalty='none' will ignore the C and l1_ratio parameters\n",
      "  warnings.warn(\n",
      "/home/roman/anaconda3/lib/python3.9/site-packages/sklearn/linear_model/_logistic.py:1113: UserWarning: Setting penalty='none' will ignore the C and l1_ratio parameters\n",
      "  warnings.warn(\n",
      "/home/roman/anaconda3/lib/python3.9/site-packages/sklearn/linear_model/_logistic.py:1113: UserWarning: Setting penalty='none' will ignore the C and l1_ratio parameters\n",
      "  warnings.warn(\n",
      "\u001b[32m[I 2022-09-06 20:26:49,862]\u001b[0m Trial 9 finished with value: 0.7213245673535075 and parameters: {'penalty': 'none', 'solver': 'lbfgs', 'C': 0.8151853947857043}. Best is trial 8 with value: 0.780248752368888.\u001b[0m\n",
      "\u001b[32m[I 2022-09-06 20:27:01,839]\u001b[0m Trial 10 finished with value: 0.7716561875135004 and parameters: {'penalty': 'l2', 'solver': 'sag', 'C': 0.011541436083764595}. Best is trial 8 with value: 0.780248752368888.\u001b[0m\n",
      "\u001b[32m[I 2022-09-06 20:27:07,170]\u001b[0m Trial 11 finished with value: 0.7784680749192119 and parameters: {'penalty': 'l2', 'solver': 'lbfgs', 'C': 0.14305709238696154}. Best is trial 8 with value: 0.780248752368888.\u001b[0m\n",
      "\u001b[32m[I 2022-09-06 20:27:13,296]\u001b[0m Trial 12 finished with value: 0.778203357047612 and parameters: {'penalty': 'l2', 'solver': 'lbfgs', 'C': 0.2363324431014387}. Best is trial 8 with value: 0.780248752368888.\u001b[0m\n",
      "\u001b[32m[I 2022-09-06 20:27:19,545]\u001b[0m Trial 13 finished with value: 0.77871946361072 and parameters: {'penalty': 'l2', 'solver': 'lbfgs', 'C': 0.24455016704276306}. Best is trial 8 with value: 0.780248752368888.\u001b[0m\n",
      "\u001b[32m[I 2022-09-06 20:27:21,620]\u001b[0m Trial 14 finished with value: 0.7713943146689849 and parameters: {'penalty': 'l2', 'solver': 'lbfgs', 'C': 0.010659309219247959}. Best is trial 8 with value: 0.780248752368888.\u001b[0m\n",
      "\u001b[32m[I 2022-09-06 20:27:27,596]\u001b[0m Trial 15 finished with value: 0.7804003572447042 and parameters: {'penalty': 'l2', 'solver': 'lbfgs', 'C': 0.17003469472718175}. Best is trial 15 with value: 0.7804003572447042.\u001b[0m\n",
      "\u001b[32m[I 2022-09-06 20:27:32,802]\u001b[0m Trial 16 finished with value: 0.7794355337185958 and parameters: {'penalty': 'l2', 'solver': 'lbfgs', 'C': 0.13224678288660216}. Best is trial 15 with value: 0.7804003572447042.\u001b[0m\n",
      "\u001b[32m[I 2022-09-06 20:28:26,228]\u001b[0m Trial 17 finished with value: 0.7744841532686548 and parameters: {'penalty': 'l2', 'solver': 'sag', 'C': 0.3459351538315829}. Best is trial 15 with value: 0.7804003572447042.\u001b[0m\n",
      "\u001b[32m[I 2022-09-06 20:29:08,546]\u001b[0m Trial 18 finished with value: 0.7795488131240513 and parameters: {'penalty': 'l2', 'solver': 'sag', 'C': 0.1345206692266646}. Best is trial 15 with value: 0.7804003572447042.\u001b[0m\n",
      "\u001b[32m[I 2022-09-06 20:29:17,382]\u001b[0m Trial 19 finished with value: 0.7688659101806611 and parameters: {'penalty': 'l2', 'solver': 'lbfgs', 'C': 0.5651612579177955}. Best is trial 15 with value: 0.7804003572447042.\u001b[0m\n",
      "\u001b[32m[I 2022-09-06 20:29:25,074]\u001b[0m Trial 20 finished with value: 0.7737387784423837 and parameters: {'penalty': 'l2', 'solver': 'lbfgs', 'C': 0.36619005244253106}. Best is trial 15 with value: 0.7804003572447042.\u001b[0m\n",
      "\u001b[32m[I 2022-09-06 20:30:06,016]\u001b[0m Trial 21 finished with value: 0.7804915544458619 and parameters: {'penalty': 'l2', 'solver': 'sag', 'C': 0.12735235408899778}. Best is trial 21 with value: 0.7804915544458619.\u001b[0m\n",
      "\u001b[32m[I 2022-09-06 20:30:41,586]\u001b[0m Trial 22 finished with value: 0.7833931040716922 and parameters: {'penalty': 'l2', 'solver': 'sag', 'C': 0.09071707452301456}. Best is trial 22 with value: 0.7833931040716922.\u001b[0m\n",
      "\u001b[32m[I 2022-09-06 20:31:29,352]\u001b[0m Trial 23 finished with value: 0.7792703219960193 and parameters: {'penalty': 'l2', 'solver': 'sag', 'C': 0.21611494705760853}. Best is trial 22 with value: 0.7833931040716922.\u001b[0m\n",
      "\u001b[32m[I 2022-09-06 20:31:58,659]\u001b[0m Trial 24 finished with value: 0.7812787229514133 and parameters: {'penalty': 'l2', 'solver': 'sag', 'C': 0.05875170204156172}. Best is trial 22 with value: 0.7833931040716922.\u001b[0m\n",
      "\u001b[32m[I 2022-09-06 20:32:26,596]\u001b[0m Trial 25 finished with value: 0.7805110152104834 and parameters: {'penalty': 'l2', 'solver': 'sag', 'C': 0.05406485635729549}. Best is trial 22 with value: 0.7833931040716922.\u001b[0m\n",
      "\u001b[32m[I 2022-09-06 20:32:55,712]\u001b[0m Trial 26 finished with value: 0.7816771416215053 and parameters: {'penalty': 'l2', 'solver': 'sag', 'C': 0.05695173434835299}. Best is trial 22 with value: 0.7833931040716922.\u001b[0m\n",
      "\u001b[32m[I 2022-09-06 20:33:28,260]\u001b[0m Trial 27 finished with value: 0.7833920865429485 and parameters: {'penalty': 'l2', 'solver': 'sag', 'C': 0.07117748645789795}. Best is trial 22 with value: 0.7833931040716922.\u001b[0m\n",
      "\u001b[32m[I 2022-09-06 20:34:00,683]\u001b[0m Trial 28 finished with value: 0.7833920865429485 and parameters: {'penalty': 'l2', 'solver': 'sag', 'C': 0.07059700706265472}. Best is trial 22 with value: 0.7833931040716922.\u001b[0m\n",
      "\u001b[32m[I 2022-09-06 20:34:50,779]\u001b[0m Trial 29 finished with value: 0.7764378812530632 and parameters: {'penalty': 'l2', 'solver': 'sag', 'C': 0.28620146757428244}. Best is trial 22 with value: 0.7833931040716922.\u001b[0m\n",
      "\u001b[32m[I 2022-09-06 20:35:47,795]\u001b[0m Trial 30 finished with value: 0.7676260904180902 and parameters: {'penalty': 'l2', 'solver': 'sag', 'C': 0.6451609869320025}. Best is trial 22 with value: 0.7833931040716922.\u001b[0m\n",
      "\u001b[32m[I 2022-09-06 20:36:20,407]\u001b[0m Trial 31 finished with value: 0.7831325191552614 and parameters: {'penalty': 'l2', 'solver': 'sag', 'C': 0.07393479131231473}. Best is trial 22 with value: 0.7833931040716922.\u001b[0m\n",
      "\u001b[32m[I 2022-09-06 20:37:06,662]\u001b[0m Trial 32 finished with value: 0.780583480793854 and parameters: {'penalty': 'l2', 'solver': 'sag', 'C': 0.18608299199030864}. Best is trial 22 with value: 0.7833931040716922.\u001b[0m\n",
      "\u001b[32m[I 2022-09-06 20:37:56,585]\u001b[0m Trial 33 finished with value: 0.7764354430853195 and parameters: {'penalty': 'l2', 'solver': 'sag', 'C': 0.3029966508989138}. Best is trial 22 with value: 0.7833931040716922.\u001b[0m\n",
      "/home/roman/anaconda3/lib/python3.9/site-packages/sklearn/linear_model/_logistic.py:1113: UserWarning: Setting penalty='none' will ignore the C and l1_ratio parameters\n",
      "  warnings.warn(\n",
      "/home/roman/anaconda3/lib/python3.9/site-packages/sklearn/linear_model/_sag.py:350: ConvergenceWarning: The max_iter was reached which means the coef_ did not converge\n",
      "  warnings.warn(\n",
      "/home/roman/anaconda3/lib/python3.9/site-packages/sklearn/linear_model/_logistic.py:1113: UserWarning: Setting penalty='none' will ignore the C and l1_ratio parameters\n",
      "  warnings.warn(\n",
      "/home/roman/anaconda3/lib/python3.9/site-packages/sklearn/linear_model/_logistic.py:1113: UserWarning: Setting penalty='none' will ignore the C and l1_ratio parameters\n",
      "  warnings.warn(\n",
      "/home/roman/anaconda3/lib/python3.9/site-packages/sklearn/linear_model/_logistic.py:1113: UserWarning: Setting penalty='none' will ignore the C and l1_ratio parameters\n",
      "  warnings.warn(\n",
      "/home/roman/anaconda3/lib/python3.9/site-packages/sklearn/linear_model/_logistic.py:1113: UserWarning: Setting penalty='none' will ignore the C and l1_ratio parameters\n",
      "  warnings.warn(\n",
      "/home/roman/anaconda3/lib/python3.9/site-packages/sklearn/linear_model/_sag.py:350: ConvergenceWarning: The max_iter was reached which means the coef_ did not converge\n",
      "  warnings.warn(\n",
      "/home/roman/anaconda3/lib/python3.9/site-packages/sklearn/linear_model/_logistic.py:1113: UserWarning: Setting penalty='none' will ignore the C and l1_ratio parameters\n",
      "  warnings.warn(\n",
      "/home/roman/anaconda3/lib/python3.9/site-packages/sklearn/linear_model/_sag.py:350: ConvergenceWarning: The max_iter was reached which means the coef_ did not converge\n",
      "  warnings.warn(\n",
      "/home/roman/anaconda3/lib/python3.9/site-packages/sklearn/linear_model/_sag.py:350: ConvergenceWarning: The max_iter was reached which means the coef_ did not converge\n",
      "  warnings.warn(\n",
      "/home/roman/anaconda3/lib/python3.9/site-packages/sklearn/linear_model/_sag.py:350: ConvergenceWarning: The max_iter was reached which means the coef_ did not converge\n",
      "  warnings.warn(\n",
      "/home/roman/anaconda3/lib/python3.9/site-packages/sklearn/linear_model/_sag.py:350: ConvergenceWarning: The max_iter was reached which means the coef_ did not converge\n",
      "  warnings.warn(\n",
      "\u001b[32m[I 2022-09-06 20:40:11,223]\u001b[0m Trial 34 finished with value: 0.752872817977293 and parameters: {'penalty': 'none', 'solver': 'sag', 'C': 0.4304852455306666}. Best is trial 22 with value: 0.7833931040716922.\u001b[0m\n",
      "\u001b[32m[I 2022-09-06 20:40:46,537]\u001b[0m Trial 35 finished with value: 0.7822280544138587 and parameters: {'penalty': 'l2', 'solver': 'sag', 'C': 0.0833583415761538}. Best is trial 22 with value: 0.7833931040716922.\u001b[0m\n",
      "/home/roman/anaconda3/lib/python3.9/site-packages/sklearn/linear_model/_logistic.py:1113: UserWarning: Setting penalty='none' will ignore the C and l1_ratio parameters\n",
      "  warnings.warn(\n",
      "/home/roman/anaconda3/lib/python3.9/site-packages/sklearn/linear_model/_sag.py:350: ConvergenceWarning: The max_iter was reached which means the coef_ did not converge\n",
      "  warnings.warn(\n",
      "/home/roman/anaconda3/lib/python3.9/site-packages/sklearn/linear_model/_logistic.py:1113: UserWarning: Setting penalty='none' will ignore the C and l1_ratio parameters\n",
      "  warnings.warn(\n",
      "/home/roman/anaconda3/lib/python3.9/site-packages/sklearn/linear_model/_logistic.py:1113: UserWarning: Setting penalty='none' will ignore the C and l1_ratio parameters\n",
      "  warnings.warn(\n",
      "/home/roman/anaconda3/lib/python3.9/site-packages/sklearn/linear_model/_logistic.py:1113: UserWarning: Setting penalty='none' will ignore the C and l1_ratio parameters\n",
      "  warnings.warn(\n",
      "/home/roman/anaconda3/lib/python3.9/site-packages/sklearn/linear_model/_logistic.py:1113: UserWarning: Setting penalty='none' will ignore the C and l1_ratio parameters\n",
      "  warnings.warn(\n",
      "/home/roman/anaconda3/lib/python3.9/site-packages/sklearn/linear_model/_sag.py:350: ConvergenceWarning: The max_iter was reached which means the coef_ did not converge\n",
      "  warnings.warn(\n",
      "/home/roman/anaconda3/lib/python3.9/site-packages/sklearn/linear_model/_logistic.py:1113: UserWarning: Setting penalty='none' will ignore the C and l1_ratio parameters\n",
      "  warnings.warn(\n",
      "/home/roman/anaconda3/lib/python3.9/site-packages/sklearn/linear_model/_sag.py:350: ConvergenceWarning: The max_iter was reached which means the coef_ did not converge\n",
      "  warnings.warn(\n",
      "/home/roman/anaconda3/lib/python3.9/site-packages/sklearn/linear_model/_sag.py:350: ConvergenceWarning: The max_iter was reached which means the coef_ did not converge\n",
      "  warnings.warn(\n",
      "/home/roman/anaconda3/lib/python3.9/site-packages/sklearn/linear_model/_sag.py:350: ConvergenceWarning: The max_iter was reached which means the coef_ did not converge\n",
      "  warnings.warn(\n",
      "/home/roman/anaconda3/lib/python3.9/site-packages/sklearn/linear_model/_sag.py:350: ConvergenceWarning: The max_iter was reached which means the coef_ did not converge\n",
      "  warnings.warn(\n",
      "\u001b[32m[I 2022-09-06 20:43:02,875]\u001b[0m Trial 36 finished with value: 0.752872817977293 and parameters: {'penalty': 'none', 'solver': 'sag', 'C': 0.19440543348165973}. Best is trial 22 with value: 0.7833931040716922.\u001b[0m\n",
      "\u001b[32m[I 2022-09-06 20:43:16,334]\u001b[0m Trial 37 finished with value: 0.7723397559236962 and parameters: {'penalty': 'l2', 'solver': 'sag', 'C': 0.013198846230122324}. Best is trial 22 with value: 0.7833931040716922.\u001b[0m\n",
      "/home/roman/anaconda3/lib/python3.9/site-packages/sklearn/linear_model/_logistic.py:1113: UserWarning: Setting penalty='none' will ignore the C and l1_ratio parameters\n",
      "  warnings.warn(\n",
      "/home/roman/anaconda3/lib/python3.9/site-packages/sklearn/linear_model/_sag.py:350: ConvergenceWarning: The max_iter was reached which means the coef_ did not converge\n",
      "  warnings.warn(\n",
      "/home/roman/anaconda3/lib/python3.9/site-packages/sklearn/linear_model/_logistic.py:1113: UserWarning: Setting penalty='none' will ignore the C and l1_ratio parameters\n",
      "  warnings.warn(\n",
      "/home/roman/anaconda3/lib/python3.9/site-packages/sklearn/linear_model/_logistic.py:1113: UserWarning: Setting penalty='none' will ignore the C and l1_ratio parameters\n",
      "  warnings.warn(\n",
      "/home/roman/anaconda3/lib/python3.9/site-packages/sklearn/linear_model/_logistic.py:1113: UserWarning: Setting penalty='none' will ignore the C and l1_ratio parameters\n",
      "  warnings.warn(\n",
      "/home/roman/anaconda3/lib/python3.9/site-packages/sklearn/linear_model/_logistic.py:1113: UserWarning: Setting penalty='none' will ignore the C and l1_ratio parameters\n",
      "  warnings.warn(\n",
      "/home/roman/anaconda3/lib/python3.9/site-packages/sklearn/linear_model/_sag.py:350: ConvergenceWarning: The max_iter was reached which means the coef_ did not converge\n",
      "  warnings.warn(\n",
      "/home/roman/anaconda3/lib/python3.9/site-packages/sklearn/linear_model/_logistic.py:1113: UserWarning: Setting penalty='none' will ignore the C and l1_ratio parameters\n",
      "  warnings.warn(\n",
      "/home/roman/anaconda3/lib/python3.9/site-packages/sklearn/linear_model/_sag.py:350: ConvergenceWarning: The max_iter was reached which means the coef_ did not converge\n",
      "  warnings.warn(\n",
      "/home/roman/anaconda3/lib/python3.9/site-packages/sklearn/linear_model/_sag.py:350: ConvergenceWarning: The max_iter was reached which means the coef_ did not converge\n",
      "  warnings.warn(\n",
      "/home/roman/anaconda3/lib/python3.9/site-packages/sklearn/linear_model/_sag.py:350: ConvergenceWarning: The max_iter was reached which means the coef_ did not converge\n",
      "  warnings.warn(\n",
      "/home/roman/anaconda3/lib/python3.9/site-packages/sklearn/linear_model/_sag.py:350: ConvergenceWarning: The max_iter was reached which means the coef_ did not converge\n",
      "  warnings.warn(\n",
      "\u001b[32m[I 2022-09-06 20:45:28,679]\u001b[0m Trial 38 finished with value: 0.752872817977293 and parameters: {'penalty': 'none', 'solver': 'sag', 'C': 0.42119606071624627}. Best is trial 22 with value: 0.7833931040716922.\u001b[0m\n",
      "\u001b[32m[I 2022-09-06 20:46:18,610]\u001b[0m Trial 39 finished with value: 0.7761862716905217 and parameters: {'penalty': 'l2', 'solver': 'sag', 'C': 0.31099849892678577}. Best is trial 22 with value: 0.7833931040716922.\u001b[0m\n",
      "/home/roman/anaconda3/lib/python3.9/site-packages/sklearn/linear_model/_logistic.py:1113: UserWarning: Setting penalty='none' will ignore the C and l1_ratio parameters\n",
      "  warnings.warn(\n",
      "/home/roman/anaconda3/lib/python3.9/site-packages/sklearn/linear_model/_sag.py:350: ConvergenceWarning: The max_iter was reached which means the coef_ did not converge\n",
      "  warnings.warn(\n",
      "/home/roman/anaconda3/lib/python3.9/site-packages/sklearn/linear_model/_logistic.py:1113: UserWarning: Setting penalty='none' will ignore the C and l1_ratio parameters\n",
      "  warnings.warn(\n",
      "/home/roman/anaconda3/lib/python3.9/site-packages/sklearn/linear_model/_logistic.py:1113: UserWarning: Setting penalty='none' will ignore the C and l1_ratio parameters\n",
      "  warnings.warn(\n",
      "/home/roman/anaconda3/lib/python3.9/site-packages/sklearn/linear_model/_logistic.py:1113: UserWarning: Setting penalty='none' will ignore the C and l1_ratio parameters\n",
      "  warnings.warn(\n",
      "/home/roman/anaconda3/lib/python3.9/site-packages/sklearn/linear_model/_logistic.py:1113: UserWarning: Setting penalty='none' will ignore the C and l1_ratio parameters\n",
      "  warnings.warn(\n",
      "/home/roman/anaconda3/lib/python3.9/site-packages/sklearn/linear_model/_sag.py:350: ConvergenceWarning: The max_iter was reached which means the coef_ did not converge\n",
      "  warnings.warn(\n",
      "/home/roman/anaconda3/lib/python3.9/site-packages/sklearn/linear_model/_logistic.py:1113: UserWarning: Setting penalty='none' will ignore the C and l1_ratio parameters\n",
      "  warnings.warn(\n",
      "/home/roman/anaconda3/lib/python3.9/site-packages/sklearn/linear_model/_sag.py:350: ConvergenceWarning: The max_iter was reached which means the coef_ did not converge\n",
      "  warnings.warn(\n",
      "/home/roman/anaconda3/lib/python3.9/site-packages/sklearn/linear_model/_sag.py:350: ConvergenceWarning: The max_iter was reached which means the coef_ did not converge\n",
      "  warnings.warn(\n",
      "/home/roman/anaconda3/lib/python3.9/site-packages/sklearn/linear_model/_sag.py:350: ConvergenceWarning: The max_iter was reached which means the coef_ did not converge\n",
      "  warnings.warn(\n",
      "/home/roman/anaconda3/lib/python3.9/site-packages/sklearn/linear_model/_sag.py:350: ConvergenceWarning: The max_iter was reached which means the coef_ did not converge\n",
      "  warnings.warn(\n",
      "\u001b[32m[I 2022-09-06 20:48:33,008]\u001b[0m Trial 40 finished with value: 0.752872817977293 and parameters: {'penalty': 'none', 'solver': 'sag', 'C': 0.08370684824925556}. Best is trial 22 with value: 0.7833931040716922.\u001b[0m\n",
      "\u001b[32m[I 2022-09-06 20:49:07,283]\u001b[0m Trial 41 finished with value: 0.7827306471192053 and parameters: {'penalty': 'l2', 'solver': 'sag', 'C': 0.08699668818023823}. Best is trial 22 with value: 0.7833931040716922.\u001b[0m\n",
      "\u001b[32m[I 2022-09-06 20:49:46,995]\u001b[0m Trial 42 finished with value: 0.7801730068387449 and parameters: {'penalty': 'l2', 'solver': 'sag', 'C': 0.17133132671726337}. Best is trial 22 with value: 0.7833931040716922.\u001b[0m\n",
      "\u001b[32m[I 2022-09-06 20:50:19,210]\u001b[0m Trial 43 finished with value: 0.781842203735877 and parameters: {'penalty': 'l2', 'solver': 'sag', 'C': 0.09831732880239279}. Best is trial 22 with value: 0.7833931040716922.\u001b[0m\n",
      "\u001b[32m[I 2022-09-06 20:50:40,862]\u001b[0m Trial 44 finished with value: 0.7834854155616136 and parameters: {'penalty': 'l2', 'solver': 'sag', 'C': 0.04356151802753293}. Best is trial 44 with value: 0.7834854155616136.\u001b[0m\n",
      "\u001b[32m[I 2022-09-06 20:51:27,529]\u001b[0m Trial 45 finished with value: 0.7644616775317961 and parameters: {'penalty': 'l2', 'solver': 'sag', 'C': 0.9843808173100181}. Best is trial 44 with value: 0.7834854155616136.\u001b[0m\n",
      "\u001b[32m[I 2022-09-06 20:51:46,419]\u001b[0m Trial 46 finished with value: 0.780474529958059 and parameters: {'penalty': 'l2', 'solver': 'sag', 'C': 0.03224973499892896}. Best is trial 44 with value: 0.7834854155616136.\u001b[0m\n",
      "\u001b[32m[I 2022-09-06 20:52:31,015]\u001b[0m Trial 47 finished with value: 0.7764239189248648 and parameters: {'penalty': 'l2', 'solver': 'sag', 'C': 0.26642499338148806}. Best is trial 44 with value: 0.7834854155616136.\u001b[0m\n",
      "\u001b[32m[I 2022-09-06 20:53:13,422]\u001b[0m Trial 48 finished with value: 0.7792696324803028 and parameters: {'penalty': 'l2', 'solver': 'sag', 'C': 0.21197559410292136}. Best is trial 44 with value: 0.7834854155616136.\u001b[0m\n",
      "/home/roman/anaconda3/lib/python3.9/site-packages/sklearn/linear_model/_logistic.py:1113: UserWarning: Setting penalty='none' will ignore the C and l1_ratio parameters\n",
      "  warnings.warn(\n",
      "/home/roman/anaconda3/lib/python3.9/site-packages/sklearn/linear_model/_sag.py:350: ConvergenceWarning: The max_iter was reached which means the coef_ did not converge\n",
      "  warnings.warn(\n",
      "/home/roman/anaconda3/lib/python3.9/site-packages/sklearn/linear_model/_logistic.py:1113: UserWarning: Setting penalty='none' will ignore the C and l1_ratio parameters\n",
      "  warnings.warn(\n",
      "/home/roman/anaconda3/lib/python3.9/site-packages/sklearn/linear_model/_logistic.py:1113: UserWarning: Setting penalty='none' will ignore the C and l1_ratio parameters\n",
      "  warnings.warn(\n",
      "/home/roman/anaconda3/lib/python3.9/site-packages/sklearn/linear_model/_logistic.py:1113: UserWarning: Setting penalty='none' will ignore the C and l1_ratio parameters\n",
      "  warnings.warn(\n",
      "/home/roman/anaconda3/lib/python3.9/site-packages/sklearn/linear_model/_logistic.py:1113: UserWarning: Setting penalty='none' will ignore the C and l1_ratio parameters\n",
      "  warnings.warn(\n",
      "/home/roman/anaconda3/lib/python3.9/site-packages/sklearn/linear_model/_sag.py:350: ConvergenceWarning: The max_iter was reached which means the coef_ did not converge\n",
      "  warnings.warn(\n",
      "/home/roman/anaconda3/lib/python3.9/site-packages/sklearn/linear_model/_logistic.py:1113: UserWarning: Setting penalty='none' will ignore the C and l1_ratio parameters\n",
      "  warnings.warn(\n",
      "/home/roman/anaconda3/lib/python3.9/site-packages/sklearn/linear_model/_sag.py:350: ConvergenceWarning: The max_iter was reached which means the coef_ did not converge\n",
      "  warnings.warn(\n",
      "/home/roman/anaconda3/lib/python3.9/site-packages/sklearn/linear_model/_sag.py:350: ConvergenceWarning: The max_iter was reached which means the coef_ did not converge\n",
      "  warnings.warn(\n",
      "/home/roman/anaconda3/lib/python3.9/site-packages/sklearn/linear_model/_sag.py:350: ConvergenceWarning: The max_iter was reached which means the coef_ did not converge\n",
      "  warnings.warn(\n",
      "/home/roman/anaconda3/lib/python3.9/site-packages/sklearn/linear_model/_sag.py:350: ConvergenceWarning: The max_iter was reached which means the coef_ did not converge\n",
      "  warnings.warn(\n",
      "\u001b[32m[I 2022-09-06 20:55:23,528]\u001b[0m Trial 49 finished with value: 0.752872817977293 and parameters: {'penalty': 'none', 'solver': 'sag', 'C': 0.15154463357444925}. Best is trial 44 with value: 0.7834854155616136.\u001b[0m\n"
     ]
    }
   ],
   "source": [
    "study = optuna.create_study(study_name=\"LogisticRegression\", direction=\"maximize\")\n",
    "study.optimize(optuna_rf, n_trials=50)"
   ]
  },
  {
   "cell_type": "code",
   "execution_count": 12,
   "metadata": {},
   "outputs": [
    {
     "name": "stdout",
     "output_type": "stream",
     "text": [
      "Наилучшие значения гиперпараметров {'penalty': 'l2', 'solver': 'sag', 'C': 0.04356151802753293}\n",
      "f1_score на обучающем наборе: 0.783\n"
     ]
    }
   ],
   "source": [
    "print(\"Наилучшие значения гиперпараметров {}\".format(study.best_params))\n",
    "print(\"f1_score на обучающем наборе: {:.3f}\".format(study.best_value))"
   ]
  },
  {
   "cell_type": "code",
   "execution_count": 14,
   "metadata": {},
   "outputs": [
    {
     "data": {
      "text/html": [
       "<style>#sk-container-id-1 {color: black;background-color: white;}#sk-container-id-1 pre{padding: 0;}#sk-container-id-1 div.sk-toggleable {background-color: white;}#sk-container-id-1 label.sk-toggleable__label {cursor: pointer;display: block;width: 100%;margin-bottom: 0;padding: 0.3em;box-sizing: border-box;text-align: center;}#sk-container-id-1 label.sk-toggleable__label-arrow:before {content: \"▸\";float: left;margin-right: 0.25em;color: #696969;}#sk-container-id-1 label.sk-toggleable__label-arrow:hover:before {color: black;}#sk-container-id-1 div.sk-estimator:hover label.sk-toggleable__label-arrow:before {color: black;}#sk-container-id-1 div.sk-toggleable__content {max-height: 0;max-width: 0;overflow: hidden;text-align: left;background-color: #f0f8ff;}#sk-container-id-1 div.sk-toggleable__content pre {margin: 0.2em;color: black;border-radius: 0.25em;background-color: #f0f8ff;}#sk-container-id-1 input.sk-toggleable__control:checked~div.sk-toggleable__content {max-height: 200px;max-width: 100%;overflow: auto;}#sk-container-id-1 input.sk-toggleable__control:checked~label.sk-toggleable__label-arrow:before {content: \"▾\";}#sk-container-id-1 div.sk-estimator input.sk-toggleable__control:checked~label.sk-toggleable__label {background-color: #d4ebff;}#sk-container-id-1 div.sk-label input.sk-toggleable__control:checked~label.sk-toggleable__label {background-color: #d4ebff;}#sk-container-id-1 input.sk-hidden--visually {border: 0;clip: rect(1px 1px 1px 1px);clip: rect(1px, 1px, 1px, 1px);height: 1px;margin: -1px;overflow: hidden;padding: 0;position: absolute;width: 1px;}#sk-container-id-1 div.sk-estimator {font-family: monospace;background-color: #f0f8ff;border: 1px dotted black;border-radius: 0.25em;box-sizing: border-box;margin-bottom: 0.5em;}#sk-container-id-1 div.sk-estimator:hover {background-color: #d4ebff;}#sk-container-id-1 div.sk-parallel-item::after {content: \"\";width: 100%;border-bottom: 1px solid gray;flex-grow: 1;}#sk-container-id-1 div.sk-label:hover label.sk-toggleable__label {background-color: #d4ebff;}#sk-container-id-1 div.sk-serial::before {content: \"\";position: absolute;border-left: 1px solid gray;box-sizing: border-box;top: 0;bottom: 0;left: 50%;z-index: 0;}#sk-container-id-1 div.sk-serial {display: flex;flex-direction: column;align-items: center;background-color: white;padding-right: 0.2em;padding-left: 0.2em;position: relative;}#sk-container-id-1 div.sk-item {position: relative;z-index: 1;}#sk-container-id-1 div.sk-parallel {display: flex;align-items: stretch;justify-content: center;background-color: white;position: relative;}#sk-container-id-1 div.sk-item::before, #sk-container-id-1 div.sk-parallel-item::before {content: \"\";position: absolute;border-left: 1px solid gray;box-sizing: border-box;top: 0;bottom: 0;left: 50%;z-index: -1;}#sk-container-id-1 div.sk-parallel-item {display: flex;flex-direction: column;z-index: 1;position: relative;background-color: white;}#sk-container-id-1 div.sk-parallel-item:first-child::after {align-self: flex-end;width: 50%;}#sk-container-id-1 div.sk-parallel-item:last-child::after {align-self: flex-start;width: 50%;}#sk-container-id-1 div.sk-parallel-item:only-child::after {width: 0;}#sk-container-id-1 div.sk-dashed-wrapped {border: 1px dashed gray;margin: 0 0.4em 0.5em 0.4em;box-sizing: border-box;padding-bottom: 0.4em;background-color: white;}#sk-container-id-1 div.sk-label label {font-family: monospace;font-weight: bold;display: inline-block;line-height: 1.2em;}#sk-container-id-1 div.sk-label-container {text-align: center;}#sk-container-id-1 div.sk-container {/* jupyter's `normalize.less` sets `[hidden] { display: none; }` but bootstrap.min.css set `[hidden] { display: none !important; }` so we also need the `!important` here to be able to override the default hidden behavior on the sphinx rendered scikit-learn.org. See: https://github.com/scikit-learn/scikit-learn/issues/21755 */display: inline-block !important;position: relative;}#sk-container-id-1 div.sk-text-repr-fallback {display: none;}</style><div id=\"sk-container-id-1\" class=\"sk-top-container\"><div class=\"sk-text-repr-fallback\"><pre>LogisticRegression(C=0.04356151802753293, max_iter=1000, random_state=42,\n",
       "                   solver=&#x27;sag&#x27;)</pre><b>In a Jupyter environment, please rerun this cell to show the HTML representation or trust the notebook. <br />On GitHub, the HTML representation is unable to render, please try loading this page with nbviewer.org.</b></div><div class=\"sk-container\" hidden><div class=\"sk-item\"><div class=\"sk-estimator sk-toggleable\"><input class=\"sk-toggleable__control sk-hidden--visually\" id=\"sk-estimator-id-1\" type=\"checkbox\" checked><label for=\"sk-estimator-id-1\" class=\"sk-toggleable__label sk-toggleable__label-arrow\">LogisticRegression</label><div class=\"sk-toggleable__content\"><pre>LogisticRegression(C=0.04356151802753293, max_iter=1000, random_state=42,\n",
       "                   solver=&#x27;sag&#x27;)</pre></div></div></div></div></div>"
      ],
      "text/plain": [
       "LogisticRegression(C=0.04356151802753293, max_iter=1000, random_state=42,\n",
       "                   solver='sag')"
      ]
     },
     "execution_count": 14,
     "metadata": {},
     "output_type": "execute_result"
    }
   ],
   "source": [
    "model = linear_model.LogisticRegression(**study.best_params,random_state=42, max_iter=1000)\n",
    "model.fit(X_train, y_train)"
   ]
  },
  {
   "cell_type": "code",
   "execution_count": 15,
   "metadata": {},
   "outputs": [
    {
     "name": "stdout",
     "output_type": "stream",
     "text": [
      "f1_score на тестовом наборе: 0.797\n"
     ]
    }
   ],
   "source": [
    "print('f1_score на тестовом наборе: {:.3f}'.format(metrics.f1_score(y_test, model.predict(X_test))))"
   ]
  },
  {
   "cell_type": "markdown",
   "metadata": {},
   "source": [
    "Модель логистической регрессии по Optuna имеет метрику на тестовом наборе, практически похожую на Hyperopt (немного меньше)."
   ]
  },
  {
   "cell_type": "markdown",
   "metadata": {},
   "source": [
    "# Случайный лес с Optuna"
   ]
  },
  {
   "cell_type": "code",
   "execution_count": 16,
   "metadata": {},
   "outputs": [],
   "source": [
    "def optuna_rf(trial, cv=5, X=X_train, y=y_train, random_state=42):\n",
    "    \n",
    "  n_estimators = trial.suggest_int('n_estimators', 100, 200, 1)\n",
    "  max_depth = trial.suggest_int('max_depth', 10, 30, 1)\n",
    "  min_samples_leaf = trial.suggest_int('min_samples_leaf', 2, 10, 1)\n",
    "\n",
    "  model = ensemble.RandomForestClassifier(n_estimators=n_estimators,\n",
    "                                          max_depth=max_depth,\n",
    "                                          min_samples_leaf=min_samples_leaf,\n",
    "                                          random_state=random_state)\n",
    "  \n",
    "  model.fit(X, y)\n",
    "  score = cross_val_score(model, X, y, cv=cv, scoring=\"f1\", n_jobs=-1).mean()\n",
    "\n",
    "\n",
    "  return score"
   ]
  },
  {
   "cell_type": "code",
   "execution_count": 17,
   "metadata": {},
   "outputs": [
    {
     "name": "stderr",
     "output_type": "stream",
     "text": [
      "\u001b[32m[I 2022-09-06 21:01:04,135]\u001b[0m A new study created in memory with name: RandomForestClassifier\u001b[0m\n",
      "\u001b[32m[I 2022-09-06 21:01:10,666]\u001b[0m Trial 0 finished with value: 0.8002687713316747 and parameters: {'n_estimators': 146, 'max_depth': 13, 'min_samples_leaf': 4}. Best is trial 0 with value: 0.8002687713316747.\u001b[0m\n",
      "\u001b[32m[I 2022-09-06 21:01:15,734]\u001b[0m Trial 1 finished with value: 0.7936501629074433 and parameters: {'n_estimators': 178, 'max_depth': 14, 'min_samples_leaf': 8}. Best is trial 0 with value: 0.8002687713316747.\u001b[0m\n",
      "\u001b[32m[I 2022-09-06 21:01:19,124]\u001b[0m Trial 2 finished with value: 0.7980663022949532 and parameters: {'n_estimators': 109, 'max_depth': 26, 'min_samples_leaf': 7}. Best is trial 0 with value: 0.8002687713316747.\u001b[0m\n",
      "\u001b[32m[I 2022-09-06 21:01:25,388]\u001b[0m Trial 3 finished with value: 0.814831131499399 and parameters: {'n_estimators': 179, 'max_depth': 23, 'min_samples_leaf': 3}. Best is trial 3 with value: 0.814831131499399.\u001b[0m\n",
      "\u001b[32m[I 2022-09-06 21:01:28,834]\u001b[0m Trial 4 finished with value: 0.8006409714368706 and parameters: {'n_estimators': 100, 'max_depth': 29, 'min_samples_leaf': 5}. Best is trial 3 with value: 0.814831131499399.\u001b[0m\n",
      "\u001b[32m[I 2022-09-06 21:01:32,893]\u001b[0m Trial 5 finished with value: 0.7848194369057 and parameters: {'n_estimators': 147, 'max_depth': 10, 'min_samples_leaf': 7}. Best is trial 3 with value: 0.814831131499399.\u001b[0m\n",
      "\u001b[32m[I 2022-09-06 21:01:38,732]\u001b[0m Trial 6 finished with value: 0.8022012992058724 and parameters: {'n_estimators': 187, 'max_depth': 17, 'min_samples_leaf': 6}. Best is trial 3 with value: 0.814831131499399.\u001b[0m\n",
      "\u001b[32m[I 2022-09-06 21:01:43,987]\u001b[0m Trial 7 finished with value: 0.8069996166489606 and parameters: {'n_estimators': 138, 'max_depth': 30, 'min_samples_leaf': 2}. Best is trial 3 with value: 0.814831131499399.\u001b[0m\n",
      "\u001b[32m[I 2022-09-06 21:01:49,508]\u001b[0m Trial 8 finished with value: 0.7912431455869345 and parameters: {'n_estimators': 194, 'max_depth': 29, 'min_samples_leaf': 9}. Best is trial 3 with value: 0.814831131499399.\u001b[0m\n",
      "\u001b[32m[I 2022-09-06 21:01:53,986]\u001b[0m Trial 9 finished with value: 0.802518193792373 and parameters: {'n_estimators': 143, 'max_depth': 20, 'min_samples_leaf': 6}. Best is trial 3 with value: 0.814831131499399.\u001b[0m\n",
      "\u001b[32m[I 2022-09-06 21:02:00,285]\u001b[0m Trial 10 finished with value: 0.8055104765684487 and parameters: {'n_estimators': 168, 'max_depth': 23, 'min_samples_leaf': 2}. Best is trial 3 with value: 0.814831131499399.\u001b[0m\n",
      "\u001b[32m[I 2022-09-06 21:02:06,380]\u001b[0m Trial 11 finished with value: 0.8092703013358168 and parameters: {'n_estimators': 162, 'max_depth': 23, 'min_samples_leaf': 2}. Best is trial 3 with value: 0.814831131499399.\u001b[0m\n",
      "\u001b[32m[I 2022-09-06 21:02:12,592]\u001b[0m Trial 12 finished with value: 0.8112950591549136 and parameters: {'n_estimators': 171, 'max_depth': 23, 'min_samples_leaf': 3}. Best is trial 3 with value: 0.814831131499399.\u001b[0m\n",
      "\u001b[32m[I 2022-09-06 21:02:18,273]\u001b[0m Trial 13 finished with value: 0.8041780957926351 and parameters: {'n_estimators': 168, 'max_depth': 22, 'min_samples_leaf': 4}. Best is trial 3 with value: 0.814831131499399.\u001b[0m\n",
      "\u001b[32m[I 2022-09-06 21:02:24,387]\u001b[0m Trial 14 finished with value: 0.8048214581776836 and parameters: {'n_estimators': 182, 'max_depth': 19, 'min_samples_leaf': 4}. Best is trial 3 with value: 0.814831131499399.\u001b[0m\n",
      "\u001b[32m[I 2022-09-06 21:02:31,486]\u001b[0m Trial 15 finished with value: 0.8110704749584569 and parameters: {'n_estimators': 199, 'max_depth': 26, 'min_samples_leaf': 3}. Best is trial 3 with value: 0.814831131499399.\u001b[0m\n",
      "\u001b[32m[I 2022-09-06 21:02:35,176]\u001b[0m Trial 16 finished with value: 0.7905333404775079 and parameters: {'n_estimators': 127, 'max_depth': 25, 'min_samples_leaf': 10}. Best is trial 3 with value: 0.814831131499399.\u001b[0m\n",
      "\u001b[32m[I 2022-09-06 21:02:41,203]\u001b[0m Trial 17 finished with value: 0.8080804939545366 and parameters: {'n_estimators': 166, 'max_depth': 18, 'min_samples_leaf': 3}. Best is trial 3 with value: 0.814831131499399.\u001b[0m\n",
      "\u001b[32m[I 2022-09-06 21:02:46,470]\u001b[0m Trial 18 finished with value: 0.7989441602717275 and parameters: {'n_estimators': 158, 'max_depth': 22, 'min_samples_leaf': 5}. Best is trial 3 with value: 0.814831131499399.\u001b[0m\n",
      "\u001b[32m[I 2022-09-06 21:02:52,801]\u001b[0m Trial 19 finished with value: 0.8029832644001884 and parameters: {'n_estimators': 179, 'max_depth': 16, 'min_samples_leaf': 3}. Best is trial 3 with value: 0.814831131499399.\u001b[0m\n",
      "\u001b[32m[I 2022-09-06 21:02:57,278]\u001b[0m Trial 20 finished with value: 0.8023373790885303 and parameters: {'n_estimators': 132, 'max_depth': 27, 'min_samples_leaf': 5}. Best is trial 3 with value: 0.814831131499399.\u001b[0m\n",
      "\u001b[32m[I 2022-09-06 21:03:04,270]\u001b[0m Trial 21 finished with value: 0.8125300236095008 and parameters: {'n_estimators': 199, 'max_depth': 25, 'min_samples_leaf': 3}. Best is trial 3 with value: 0.814831131499399.\u001b[0m\n",
      "\u001b[32m[I 2022-09-06 21:03:11,087]\u001b[0m Trial 22 finished with value: 0.8122253524596804 and parameters: {'n_estimators': 191, 'max_depth': 24, 'min_samples_leaf': 3}. Best is trial 3 with value: 0.814831131499399.\u001b[0m\n",
      "\u001b[32m[I 2022-09-06 21:03:17,643]\u001b[0m Trial 23 finished with value: 0.8043152689644698 and parameters: {'n_estimators': 192, 'max_depth': 21, 'min_samples_leaf': 4}. Best is trial 3 with value: 0.814831131499399.\u001b[0m\n",
      "\u001b[32m[I 2022-09-06 21:03:25,215]\u001b[0m Trial 24 finished with value: 0.8064845113688845 and parameters: {'n_estimators': 200, 'max_depth': 25, 'min_samples_leaf': 2}. Best is trial 3 with value: 0.814831131499399.\u001b[0m\n",
      "\u001b[32m[I 2022-09-06 21:03:31,859]\u001b[0m Trial 25 finished with value: 0.8119721851341029 and parameters: {'n_estimators': 189, 'max_depth': 27, 'min_samples_leaf': 3}. Best is trial 3 with value: 0.814831131499399.\u001b[0m\n",
      "\u001b[32m[I 2022-09-06 21:03:36,895]\u001b[0m Trial 26 finished with value: 0.8016115142416724 and parameters: {'n_estimators': 156, 'max_depth': 24, 'min_samples_leaf': 5}. Best is trial 3 with value: 0.814831131499399.\u001b[0m\n",
      "\u001b[32m[I 2022-09-06 21:03:43,186]\u001b[0m Trial 27 finished with value: 0.8051150427202766 and parameters: {'n_estimators': 184, 'max_depth': 20, 'min_samples_leaf': 4}. Best is trial 3 with value: 0.814831131499399.\u001b[0m\n",
      "\u001b[32m[I 2022-09-06 21:03:49,795]\u001b[0m Trial 28 finished with value: 0.8035141893469337 and parameters: {'n_estimators': 176, 'max_depth': 28, 'min_samples_leaf': 2}. Best is trial 3 with value: 0.814831131499399.\u001b[0m\n",
      "\u001b[32m[I 2022-09-06 21:03:56,524]\u001b[0m Trial 29 finished with value: 0.8122305293706111 and parameters: {'n_estimators': 192, 'max_depth': 25, 'min_samples_leaf': 3}. Best is trial 3 with value: 0.814831131499399.\u001b[0m\n",
      "\u001b[32m[I 2022-09-06 21:04:03,182]\u001b[0m Trial 30 finished with value: 0.8042252235632308 and parameters: {'n_estimators': 195, 'max_depth': 21, 'min_samples_leaf': 4}. Best is trial 3 with value: 0.814831131499399.\u001b[0m\n",
      "\u001b[32m[I 2022-09-06 21:04:09,757]\u001b[0m Trial 31 finished with value: 0.8128876505133231 and parameters: {'n_estimators': 187, 'max_depth': 25, 'min_samples_leaf': 3}. Best is trial 3 with value: 0.814831131499399.\u001b[0m\n",
      "\u001b[32m[I 2022-09-06 21:04:16,177]\u001b[0m Trial 32 finished with value: 0.811174491668557 and parameters: {'n_estimators': 177, 'max_depth': 25, 'min_samples_leaf': 3}. Best is trial 3 with value: 0.814831131499399.\u001b[0m\n",
      "\u001b[32m[I 2022-09-06 21:04:22,406]\u001b[0m Trial 33 finished with value: 0.8057330762272255 and parameters: {'n_estimators': 186, 'max_depth': 27, 'min_samples_leaf': 4}. Best is trial 3 with value: 0.814831131499399.\u001b[0m\n",
      "\u001b[32m[I 2022-09-06 21:04:28,961]\u001b[0m Trial 34 finished with value: 0.8040363786198688 and parameters: {'n_estimators': 174, 'max_depth': 26, 'min_samples_leaf': 2}. Best is trial 3 with value: 0.814831131499399.\u001b[0m\n",
      "\u001b[32m[I 2022-09-06 21:04:34,850]\u001b[0m Trial 35 finished with value: 0.7958888059479658 and parameters: {'n_estimators': 199, 'max_depth': 24, 'min_samples_leaf': 7}. Best is trial 3 with value: 0.814831131499399.\u001b[0m\n",
      "\u001b[32m[I 2022-09-06 21:04:40,662]\u001b[0m Trial 36 finished with value: 0.801467856230657 and parameters: {'n_estimators': 182, 'max_depth': 28, 'min_samples_leaf': 5}. Best is trial 3 with value: 0.814831131499399.\u001b[0m\n",
      "\u001b[32m[I 2022-09-06 21:04:45,020]\u001b[0m Trial 37 finished with value: 0.810595729255712 and parameters: {'n_estimators': 118, 'max_depth': 30, 'min_samples_leaf': 3}. Best is trial 3 with value: 0.814831131499399.\u001b[0m\n",
      "\u001b[32m[I 2022-09-06 21:04:50,641]\u001b[0m Trial 38 finished with value: 0.7947603660727507 and parameters: {'n_estimators': 195, 'max_depth': 22, 'min_samples_leaf': 8}. Best is trial 3 with value: 0.814831131499399.\u001b[0m\n",
      "\u001b[32m[I 2022-09-06 21:04:55,654]\u001b[0m Trial 39 finished with value: 0.7879542627400479 and parameters: {'n_estimators': 187, 'max_depth': 10, 'min_samples_leaf': 6}. Best is trial 3 with value: 0.814831131499399.\u001b[0m\n",
      "\u001b[32m[I 2022-09-06 21:05:00,407]\u001b[0m Trial 40 finished with value: 0.8031992723331787 and parameters: {'n_estimators': 153, 'max_depth': 12, 'min_samples_leaf': 4}. Best is trial 3 with value: 0.814831131499399.\u001b[0m\n",
      "\u001b[32m[I 2022-09-06 21:05:06,607]\u001b[0m Trial 41 finished with value: 0.8122253524596804 and parameters: {'n_estimators': 191, 'max_depth': 24, 'min_samples_leaf': 3}. Best is trial 3 with value: 0.814831131499399.\u001b[0m\n",
      "\u001b[32m[I 2022-09-06 21:05:12,767]\u001b[0m Trial 42 finished with value: 0.8053631395704597 and parameters: {'n_estimators': 193, 'max_depth': 25, 'min_samples_leaf': 2}. Best is trial 3 with value: 0.814831131499399.\u001b[0m\n",
      "\u001b[32m[I 2022-09-06 21:05:18,239]\u001b[0m Trial 43 finished with value: 0.8147453937168055 and parameters: {'n_estimators': 181, 'max_depth': 23, 'min_samples_leaf': 3}. Best is trial 3 with value: 0.814831131499399.\u001b[0m\n",
      "\u001b[32m[I 2022-09-06 21:05:24,052]\u001b[0m Trial 44 finished with value: 0.8092256266077328 and parameters: {'n_estimators': 181, 'max_depth': 23, 'min_samples_leaf': 2}. Best is trial 3 with value: 0.814831131499399.\u001b[0m\n",
      "\u001b[32m[I 2022-09-06 21:05:29,367]\u001b[0m Trial 45 finished with value: 0.8120651896350477 and parameters: {'n_estimators': 174, 'max_depth': 26, 'min_samples_leaf': 3}. Best is trial 3 with value: 0.814831131499399.\u001b[0m\n",
      "\u001b[32m[I 2022-09-06 21:05:34,117]\u001b[0m Trial 46 finished with value: 0.8029407857216662 and parameters: {'n_estimators': 163, 'max_depth': 21, 'min_samples_leaf': 4}. Best is trial 3 with value: 0.814831131499399.\u001b[0m\n",
      "\u001b[32m[I 2022-09-06 21:05:40,093]\u001b[0m Trial 47 finished with value: 0.8044260366928109 and parameters: {'n_estimators': 185, 'max_depth': 28, 'min_samples_leaf': 2}. Best is trial 3 with value: 0.814831131499399.\u001b[0m\n",
      "\u001b[32m[I 2022-09-06 21:05:45,491]\u001b[0m Trial 48 finished with value: 0.8003768601727765 and parameters: {'n_estimators': 196, 'max_depth': 22, 'min_samples_leaf': 5}. Best is trial 3 with value: 0.814831131499399.\u001b[0m\n",
      "\u001b[32m[I 2022-09-06 21:05:50,681]\u001b[0m Trial 49 finished with value: 0.8112950591549136 and parameters: {'n_estimators': 171, 'max_depth': 23, 'min_samples_leaf': 3}. Best is trial 3 with value: 0.814831131499399.\u001b[0m\n"
     ]
    }
   ],
   "source": [
    "study = optuna.create_study(study_name=\"RandomForestClassifier\", direction=\"maximize\")\n",
    "study.optimize(optuna_rf, n_trials=50)"
   ]
  },
  {
   "cell_type": "code",
   "execution_count": 18,
   "metadata": {},
   "outputs": [
    {
     "name": "stdout",
     "output_type": "stream",
     "text": [
      "Наилучшие значения гиперпараметров {'n_estimators': 179, 'max_depth': 23, 'min_samples_leaf': 3}\n",
      "f1_score на обучающем наборе: 0.815\n"
     ]
    }
   ],
   "source": [
    "print(\"Наилучшие значения гиперпараметров {}\".format(study.best_params))\n",
    "print(\"f1_score на обучающем наборе: {:.3f}\".format(study.best_value))"
   ]
  },
  {
   "cell_type": "code",
   "execution_count": 19,
   "metadata": {},
   "outputs": [
    {
     "name": "stdout",
     "output_type": "stream",
     "text": [
      "f1_score на тестовом наборе: 0.797\n"
     ]
    }
   ],
   "source": [
    "print('f1_score на тестовом наборе: {:.3f}'.format(metrics.f1_score(y_test, model.predict(X_test))))"
   ]
  },
  {
   "cell_type": "markdown",
   "metadata": {},
   "source": [
    "Метрика на тестовом наборе 0.797, что ниже, чем у модели с Hyperopt. Возможно, это связано с удалением «плохих» точек пространства из рассмотрения, либо некорректно построено пространство поиска."
   ]
  }
 ],
 "metadata": {
  "interpreter": {
   "hash": "571d7e2b472b2ad2fe7fa12de89057082d5c525dba7df0550d26c3e2b085b7b8"
  },
  "kernelspec": {
   "display_name": "Python 3.9.7 ('base')",
   "language": "python",
   "name": "python3"
  },
  "language_info": {
   "codemirror_mode": {
    "name": "ipython",
    "version": 3
   },
   "file_extension": ".py",
   "mimetype": "text/x-python",
   "name": "python",
   "nbconvert_exporter": "python",
   "pygments_lexer": "ipython3",
   "version": "3.9.7"
  },
  "orig_nbformat": 4
 },
 "nbformat": 4,
 "nbformat_minor": 2
}
