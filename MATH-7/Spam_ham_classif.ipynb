{
  "cells": [
    {
      "cell_type": "markdown",
      "id": "00009cca",
      "metadata": {
        "id": "00009cca"
      },
      "source": [
        "# Классификация текстов с использованием Наивного Байесовского Классификатора"
      ]
    },
    {
      "cell_type": "code",
      "execution_count": 2,
      "id": "04a4a69f",
      "metadata": {},
      "outputs": [],
      "source": [
        "import pandas as pd\n",
        "import numpy as np\n",
        "import matplotlib.pyplot as plt\n",
        "import seaborn as sns"
      ]
    },
    {
      "cell_type": "markdown",
      "id": "a52414b8",
      "metadata": {
        "id": "a52414b8"
      },
      "source": [
        "## Подгрузка данных. Первичный анализ"
      ]
    },
    {
      "cell_type": "markdown",
      "id": "f5f27b43",
      "metadata": {
        "id": "f5f27b43"
      },
      "source": [
        "Узнаем, сколько в данных спам- и не спам-писем. Визуализируем полученные соотношение."
      ]
    },
    {
      "cell_type": "code",
      "execution_count": 3,
      "id": "ac369274",
      "metadata": {
        "id": "ac369274"
      },
      "outputs": [
        {
          "data": {
            "text/html": [
              "<div>\n",
              "<style scoped>\n",
              "    .dataframe tbody tr th:only-of-type {\n",
              "        vertical-align: middle;\n",
              "    }\n",
              "\n",
              "    .dataframe tbody tr th {\n",
              "        vertical-align: top;\n",
              "    }\n",
              "\n",
              "    .dataframe thead th {\n",
              "        text-align: right;\n",
              "    }\n",
              "</style>\n",
              "<table border=\"1\" class=\"dataframe\">\n",
              "  <thead>\n",
              "    <tr style=\"text-align: right;\">\n",
              "      <th></th>\n",
              "      <th>email</th>\n",
              "      <th>label</th>\n",
              "    </tr>\n",
              "  </thead>\n",
              "  <tbody>\n",
              "    <tr>\n",
              "      <th>0</th>\n",
              "      <td>date wed NUMBER aug NUMBER NUMBER NUMBER NUMB...</td>\n",
              "      <td>0</td>\n",
              "    </tr>\n",
              "    <tr>\n",
              "      <th>1</th>\n",
              "      <td>martin a posted tassos papadopoulos the greek ...</td>\n",
              "      <td>0</td>\n",
              "    </tr>\n",
              "    <tr>\n",
              "      <th>2</th>\n",
              "      <td>man threatens explosion in moscow thursday aug...</td>\n",
              "      <td>0</td>\n",
              "    </tr>\n",
              "    <tr>\n",
              "      <th>3</th>\n",
              "      <td>klez the virus that won t die already the most...</td>\n",
              "      <td>0</td>\n",
              "    </tr>\n",
              "    <tr>\n",
              "      <th>4</th>\n",
              "      <td>in adding cream to spaghetti carbonara which ...</td>\n",
              "      <td>0</td>\n",
              "    </tr>\n",
              "  </tbody>\n",
              "</table>\n",
              "</div>"
            ],
            "text/plain": [
              "                                               email  label\n",
              "0   date wed NUMBER aug NUMBER NUMBER NUMBER NUMB...      0\n",
              "1  martin a posted tassos papadopoulos the greek ...      0\n",
              "2  man threatens explosion in moscow thursday aug...      0\n",
              "3  klez the virus that won t die already the most...      0\n",
              "4   in adding cream to spaghetti carbonara which ...      0"
            ]
          },
          "execution_count": 3,
          "metadata": {},
          "output_type": "execute_result"
        }
      ],
      "source": [
        "email_data = pd.read_csv(\"data/spam_or_not_spam.csv\")\n",
        "email_data.head()"
      ]
    },
    {
      "cell_type": "code",
      "execution_count": 4,
      "id": "f4231781",
      "metadata": {
        "id": "f4231781"
      },
      "outputs": [
        {
          "data": {
            "text/html": [
              "<div>\n",
              "<style scoped>\n",
              "    .dataframe tbody tr th:only-of-type {\n",
              "        vertical-align: middle;\n",
              "    }\n",
              "\n",
              "    .dataframe tbody tr th {\n",
              "        vertical-align: top;\n",
              "    }\n",
              "\n",
              "    .dataframe thead th {\n",
              "        text-align: right;\n",
              "    }\n",
              "</style>\n",
              "<table border=\"1\" class=\"dataframe\">\n",
              "  <thead>\n",
              "    <tr style=\"text-align: right;\">\n",
              "      <th></th>\n",
              "      <th>label</th>\n",
              "      <th>email</th>\n",
              "    </tr>\n",
              "  </thead>\n",
              "  <tbody>\n",
              "    <tr>\n",
              "      <th>0</th>\n",
              "      <td>0</td>\n",
              "      <td>2500</td>\n",
              "    </tr>\n",
              "    <tr>\n",
              "      <th>1</th>\n",
              "      <td>1</td>\n",
              "      <td>499</td>\n",
              "    </tr>\n",
              "  </tbody>\n",
              "</table>\n",
              "</div>"
            ],
            "text/plain": [
              "   label  email\n",
              "0      0   2500\n",
              "1      1    499"
            ]
          },
          "execution_count": 4,
          "metadata": {},
          "output_type": "execute_result"
        }
      ],
      "source": [
        "email_data.groupby(\"label\", as_index=False).count()"
      ]
    },
    {
      "cell_type": "markdown",
      "id": "5424c73b",
      "metadata": {},
      "source": [
        "***0*** - не сам, ***1*** - спам"
      ]
    },
    {
      "cell_type": "code",
      "execution_count": 6,
      "id": "93269fdf",
      "metadata": {},
      "outputs": [
        {
          "data": {
            "image/png": "[encoded data removed]",
            "text/plain": [
              "<Figure size 720x504 with 1 Axes>"
            ]
          },
          "metadata": {
            "needs_background": "light"
          },
          "output_type": "display_data"
        }
      ],
      "source": [
        "fig, ax = plt.subplots(figsize=(10, 7))\n",
        "\n",
        "sns.barplot(data=email_data.groupby(\"label\", as_index=False).count(), x=\"label\", y=\"email\", ax=ax)\n",
        "ax.set_title(\"Распределение количества писем типа 0 и 1\", fontsize=15)\n",
        "ax.set_xlabel(\"Количество писем\")\n",
        "ax.set_ylabel(\"Тип письма\");"
      ]
    },
    {
      "cell_type": "markdown",
      "id": "99c136cc",
      "metadata": {},
      "source": [
        "Из графика видно, что выборка не сбалансирована."
      ]
    },
    {
      "cell_type": "markdown",
      "id": "b161614b",
      "metadata": {
        "id": "b161614b"
      },
      "source": [
        "## Предобработка данных. Приведение их в векторный вид"
      ]
    },
    {
      "cell_type": "markdown",
      "id": "dd29763b",
      "metadata": {
        "id": "dd29763b"
      },
      "source": [
        "Подгрузим необходимый модуль:"
      ]
    },
    {
      "cell_type": "code",
      "execution_count": 7,
      "id": "382eac9c",
      "metadata": {
        "id": "382eac9c"
      },
      "outputs": [],
      "source": [
        "from sklearn.feature_extraction.text import CountVectorizer"
      ]
    },
    {
      "cell_type": "markdown",
      "id": "89546b95",
      "metadata": {
        "id": "89546b95"
      },
      "source": [
        "Заменим все пустоты в данных на пропуски (NaN). После этого удалим из данных все строки, в которых наблюдаются пропущенные значения."
      ]
    },
    {
      "cell_type": "code",
      "execution_count": 8,
      "id": "45180f82",
      "metadata": {
        "id": "45180f82"
      },
      "outputs": [
        {
          "name": "stdout",
          "output_type": "stream",
          "text": [
            "<class 'pandas.core.frame.DataFrame'>\n",
            "Int64Index: 2999 entries, 0 to 2999\n",
            "Data columns (total 2 columns):\n",
            " #   Column  Non-Null Count  Dtype \n",
            "---  ------  --------------  ----- \n",
            " 0   email   2999 non-null   object\n",
            " 1   label   2999 non-null   int64 \n",
            "dtypes: int64(1), object(1)\n",
            "memory usage: 70.3+ KB\n"
          ]
        }
      ],
      "source": [
        "email_data = email_data.dropna()\n",
        "email_data.info()"
      ]
    },
    {
      "cell_type": "markdown",
      "id": "2ca2fe88",
      "metadata": {
        "id": "2ca2fe88"
      },
      "source": [
        "Переводим данные в векторный вид:"
      ]
    },
    {
      "cell_type": "code",
      "execution_count": 9,
      "id": "29e9a37b",
      "metadata": {
        "id": "29e9a37b"
      },
      "outputs": [],
      "source": [
        "vectorizer = CountVectorizer()\n",
        "X = vectorizer.fit_transform(email_data[\"email\"])"
      ]
    },
    {
      "cell_type": "markdown",
      "id": "88c8b726",
      "metadata": {
        "id": "88c8b726"
      },
      "source": [
        "Определим, сколько теперь признаков в нашем наборе данных:"
      ]
    },
    {
      "cell_type": "code",
      "execution_count": 10,
      "id": "f19c2a02",
      "metadata": {
        "id": "f19c2a02"
      },
      "outputs": [
        {
          "data": {
            "text/plain": [
              "34116"
            ]
          },
          "execution_count": 10,
          "metadata": {},
          "output_type": "execute_result"
        }
      ],
      "source": [
        "X.shape[1]"
      ]
    },
    {
      "cell_type": "markdown",
      "id": "1803f282",
      "metadata": {
        "id": "1803f282"
      },
      "source": [
        "## Выделение целевой переменной и матрицы признаков"
      ]
    },
    {
      "cell_type": "code",
      "execution_count": 11,
      "id": "31f1acb6",
      "metadata": {
        "id": "31f1acb6"
      },
      "outputs": [],
      "source": [
        "X = X\n",
        "y = email_data[\"label\"]"
      ]
    },
    {
      "cell_type": "markdown",
      "id": "b20f273e",
      "metadata": {
        "id": "b20f273e"
      },
      "source": [
        "Разделим выборку на обучающую и тестовую, размер тестовой выборки возьмём как 0.25:"
      ]
    },
    {
      "cell_type": "code",
      "execution_count": 12,
      "id": "96538fb6",
      "metadata": {
        "id": "96538fb6"
      },
      "outputs": [],
      "source": [
        "from sklearn.model_selection import train_test_split\n",
        "\n",
        "X_train, X_test, y_train, y_test = train_test_split(X, y, test_size=0.25, random_state=42)"
      ]
    },
    {
      "cell_type": "markdown",
      "id": "139dac3d",
      "metadata": {
        "id": "139dac3d"
      },
      "source": [
        "Среднее значение целевой переменной по тестовой выборке:"
      ]
    },
    {
      "cell_type": "code",
      "execution_count": 199,
      "id": "e9baf72d",
      "metadata": {
        "id": "e9baf72d"
      },
      "outputs": [
        {
          "data": {
            "text/plain": [
              "0.164"
            ]
          },
          "execution_count": 199,
          "metadata": {},
          "output_type": "execute_result"
        }
      ],
      "source": [
        "y_test.mean()"
      ]
    },
    {
      "cell_type": "markdown",
      "id": "710e0e94",
      "metadata": {
        "id": "710e0e94"
      },
      "source": [
        "## Обучение модели"
      ]
    },
    {
      "cell_type": "markdown",
      "id": "26cf6885",
      "metadata": {
        "id": "26cf6885"
      },
      "source": [
        "В библиотеке **sklearn** есть несколько байесовских классификаторов. Будем использовать **MultinomialNB**, так как он работает с категориальными признаками, текстами и несбалансированными выборками, - наш датасет как раз несбалансирован и столбец *email* - содержит данные категориального типа."
      ]
    },
    {
      "cell_type": "code",
      "execution_count": 13,
      "id": "4865dd78",
      "metadata": {
        "id": "4865dd78"
      },
      "outputs": [],
      "source": [
        "from sklearn.naive_bayes import MultinomialNB\n",
        "\n",
        "mnb = MultinomialNB(alpha=0.01)\n",
        "mnb.fit(X_train, y_train)\n",
        "y_test_pred = mnb.predict(X_test)"
      ]
    },
    {
      "cell_type": "markdown",
      "id": "d803fbe3",
      "metadata": {
        "id": "d803fbe3"
      },
      "source": [
        "Оценим результат на тестовом наборе с точки зрения всех известных метрик:"
      ]
    },
    {
      "cell_type": "code",
      "execution_count": 15,
      "id": "b0bbc4d2",
      "metadata": {
        "id": "b0bbc4d2"
      },
      "outputs": [
        {
          "name": "stdout",
          "output_type": "stream",
          "text": [
            "Accuracy on test data: 0.996\n",
            "Precision on test data: 0.992\n",
            "Recall on test data: 0.984\n",
            "f1-score on test data: 0.988\n"
          ]
        }
      ],
      "source": [
        "from sklearn import metrics\n",
        "\n",
        "print(\"Accuracy on test data: {:.3f}\".format(metrics.accuracy_score(y_test, y_test_pred)))\n",
        "print(\"Precision on test data: {:.3f}\".format(metrics.precision_score(y_test, y_test_pred)))\n",
        "print(\"Recall on test data: {:.3f}\".format(metrics.recall_score(y_test, y_test_pred)))\n",
        "print(\"f1-score on test data: {:.3f}\".format(metrics.f1_score(y_test, y_test_pred)))"
      ]
    },
    {
      "cell_type": "code",
      "execution_count": 16,
      "id": "f7f7374b",
      "metadata": {},
      "outputs": [
        {
          "name": "stdout",
          "output_type": "stream",
          "text": [
            "              precision    recall  f1-score   support\n",
            "\n",
            "           0       1.00      1.00      1.00       627\n",
            "           1       0.99      0.98      0.99       123\n",
            "\n",
            "    accuracy                           1.00       750\n",
            "   macro avg       0.99      0.99      0.99       750\n",
            "weighted avg       1.00      1.00      1.00       750\n",
            "\n"
          ]
        }
      ],
      "source": [
        "print(metrics.classification_report(y_test, y_test_pred))"
      ]
    },
    {
      "cell_type": "markdown",
      "id": "c85976d1",
      "metadata": {
        "id": "c85976d1"
      },
      "source": [
        "Нарисуем ROC-кривую:"
      ]
    },
    {
      "cell_type": "code",
      "execution_count": 17,
      "id": "b4195126",
      "metadata": {
        "id": "b4195126"
      },
      "outputs": [
        {
          "data": {
            "image/png": "[encoded data removed]",
            "text/plain": [
              "<Figure size 864x648 with 1 Axes>"
            ]
          },
          "metadata": {
            "needs_background": "light"
          },
          "output_type": "display_data"
        }
      ],
      "source": [
        "fpr, tpr, treshold = metrics.roc_curve(y_test, y_test_pred)\n",
        "roc_auc = metrics.auc(fpr, tpr)\n",
        "\n",
        "plt.figure(figsize=(12,9))\n",
        "plt.plot(fpr, tpr, color='m',\n",
        "         label='ROC-кривая (area = {:.3f})'.format(roc_auc))\n",
        "plt.plot([0, 1], [0, 1], color='navy', linestyle='--')\n",
        "plt.xlim([0.0, 1.0])\n",
        "plt.ylim([0.0, 1.05])\n",
        "plt.xlabel('False Positive Rate')\n",
        "plt.ylabel('True Positive Rate')\n",
        "plt.title('ROC-кривая')\n",
        "plt.legend(loc=\"lower right\")\n",
        "plt.show()"
      ]
    },
    {
      "cell_type": "markdown",
      "id": "cf0bb49b",
      "metadata": {
        "id": "cf0bb49b"
      },
      "source": [
        "## Подбор параметра **alpha** c помощью кросс-валидации"
      ]
    },
    {
      "cell_type": "markdown",
      "id": "30b7a0ae",
      "metadata": {
        "id": "30b7a0ae"
      },
      "source": [
        "Оценим, зависит ли от этого параметра качество классификации."
      ]
    },
    {
      "cell_type": "code",
      "execution_count": 18,
      "id": "34c8881e",
      "metadata": {},
      "outputs": [
        {
          "data": {
            "text/plain": [
              "{'fit_time': array([0.00528336, 0.00685072, 0.00864649, 0.00681257, 0.00480056]),\n",
              " 'score_time': array([0.00177693, 0.00123549, 0.00166488, 0.00148797, 0.00117779]),\n",
              " 'test_score': array([0.99333333, 0.98666667, 0.99333333, 0.98333333, 0.98831386]),\n",
              " 'train_score': array([0.9979158 , 0.99833264, 0.9979158 , 0.99708212, 0.99666667])}"
            ]
          },
          "metadata": {},
          "output_type": "display_data"
        }
      ],
      "source": [
        "from sklearn import model_selection\n",
        "\n",
        "mnb = MultinomialNB(alpha=0.01)\n",
        "kf = model_selection.KFold(n_splits=5, shuffle=True)\n",
        "\n",
        "\n",
        "cv_metrics = model_selection.cross_validate(estimator=mnb, X=X, y=y, cv=kf, scoring=\"accuracy\", return_train_score=True)\n",
        "display(cv_metrics)"
      ]
    },
    {
      "cell_type": "code",
      "execution_count": 19,
      "id": "d6717416",
      "metadata": {},
      "outputs": [
        {
          "data": {
            "text/plain": [
              "{'fit_time': array([0.00655603, 0.00543499, 0.00505161, 0.00596523, 0.00425339]),\n",
              " 'score_time': array([0.00164461, 0.00123286, 0.00109577, 0.00124431, 0.00089312]),\n",
              " 'test_score': array([0.99166667, 0.99666667, 0.98833333, 0.99333333, 0.98831386]),\n",
              " 'train_score': array([0.99749896, 0.9958316 , 0.9979158 , 0.99749896, 0.9975    ])}"
            ]
          },
          "metadata": {},
          "output_type": "display_data"
        }
      ],
      "source": [
        "mnb = MultinomialNB(alpha=0.05)\n",
        "cv_metrics = model_selection.cross_validate(estimator=mnb, X=X, y=y, cv=kf, scoring=\"accuracy\", return_train_score=True)\n",
        "display(cv_metrics)"
      ]
    },
    {
      "cell_type": "code",
      "execution_count": 20,
      "id": "b88bc764",
      "metadata": {},
      "outputs": [
        {
          "data": {
            "text/plain": [
              "{'fit_time': array([0.00630546, 0.00540924, 0.00521827, 0.00477052, 0.00487757]),\n",
              " 'score_time': array([0.00126433, 0.00106335, 0.0017283 , 0.00135994, 0.00127101]),\n",
              " 'test_score': array([0.99      , 0.99666667, 0.98666667, 0.99333333, 0.99165275]),\n",
              " 'train_score': array([0.99749896, 0.99708212, 0.99666528, 0.99708212, 0.99875   ])}"
            ]
          },
          "metadata": {},
          "output_type": "display_data"
        }
      ],
      "source": [
        "mnb = MultinomialNB(alpha=0.1)\n",
        "cv_metrics = model_selection.cross_validate(estimator=mnb, X=X, y=y, cv=kf, scoring=\"accuracy\", return_train_score=True)\n",
        "display(cv_metrics)"
      ]
    },
    {
      "cell_type": "markdown",
      "id": "1120a89d",
      "metadata": {},
      "source": [
        "Как видим, с изменением параметра **alpha** качество классификации изменяется незначительно, хотя параметр сначала был увеличен в **5 раз** до **0.05**, а затем в **10 раз** до **0.1**."
      ]
    }
  ],
  "metadata": {
    "colab": {
      "name": "SGA_unit6_NBC.ipynb",
      "provenance": []
    },
    "kernelspec": {
      "display_name": "Python 3 (ipykernel)",
      "language": "python",
      "name": "python3"
    },
    "language_info": {
      "codemirror_mode": {
        "name": "ipython",
        "version": 3
      },
      "file_extension": ".py",
      "mimetype": "text/x-python",
      "name": "python",
      "nbconvert_exporter": "python",
      "pygments_lexer": "ipython3",
      "version": "3.9.7"
    }
  },
  "nbformat": 4,
  "nbformat_minor": 5
}
